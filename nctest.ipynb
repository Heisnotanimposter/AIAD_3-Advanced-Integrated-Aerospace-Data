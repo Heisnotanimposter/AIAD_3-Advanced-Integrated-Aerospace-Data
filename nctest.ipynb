{
 "cells": [
  {
   "cell_type": "code",
   "execution_count": 1,
   "metadata": {},
   "outputs": [],
   "source": [
    "import netCDF4\n",
    "import numpy as np\n",
    "\n",
    "input_ncfile_path = 'D:\\VSCODE\\weather_resource\\download\\gk2a_ami_le1b_vi004_ko010lc_202101010000.nc' \n",
    "CT_path='./conversion_table/'\n",
    "output_txt_path='sample_output.txt'\n",
    "output_npy_path='sample_image_pixel_data.npy'\n",
    "ncfile = netCDF4.Dataset(input_ncfile_path,'r',format='netcdf4')\n",
    "ipixel=ncfile.variables['image_pixel_values']\n",
    "ipixel_process = ipixel[:]\n"
   ]
  },
  {
   "cell_type": "code",
   "execution_count": 2,
   "metadata": {},
   "outputs": [],
   "source": [
    "channel=ipixel.getncattr('channel_name')\n",
    "if ((channel == 'VI004') or (channel == 'NR016')\n",
    "    or (channel == 'VI005')):\n",
    "        mask = 0b0000011111111111 #11bit mask\n",
    "elif ((channel == 'VI006')\n",
    "    or (channel == 'NR013') or (channel == 'WV063')):\n",
    "        mask = 0b0000111111111111 #12bit mask\n",
    "elif (channel == 'SW038'):\n",
    "    mask = 0b0011111111111111 #14bit mask\n",
    "else:\n",
    "    mask = 0b0001111111111111 #13bit mask\n",
    "ipixel_process_masked=np.bitwise_and(ipixel_process,mask)"
   ]
  },
  {
   "cell_type": "code",
   "execution_count": 3,
   "metadata": {},
   "outputs": [
    {
     "data": {
      "text/plain": [
       "'VI004'"
      ]
     },
     "execution_count": 3,
     "metadata": {},
     "output_type": "execute_result"
    }
   ],
   "source": [
    "channel"
   ]
  },
  {
   "cell_type": "code",
   "execution_count": 4,
   "metadata": {},
   "outputs": [],
   "source": [
    "AL_postfix='_con_alb.txt'\n",
    "BT_postfix='_con_bt.txt'\n",
    "if (channel[0:2] == 'VI') or (channel[0:2] == 'NR'):\n",
    "    conversion_table=np.loadtxt(\n",
    "    CT_path+channel+AL_postfix,'float64')\n",
    "else:\n",
    "    conversion_table=np.loadtxt(\n",
    "        CT_path+channel+BT_postfix,'float64')\n",
    "ipixel_process_masked_converted=conversion_table[\n",
    "    ipixel_process_masked]"
   ]
  },
  {
   "cell_type": "code",
   "execution_count": 5,
   "metadata": {},
   "outputs": [
    {
     "data": {
      "text/plain": [
       "(1800, 1800)"
      ]
     },
     "execution_count": 5,
     "metadata": {},
     "output_type": "execute_result"
    }
   ],
   "source": [
    "ipixel.shape"
   ]
  },
  {
   "cell_type": "code",
   "execution_count": 6,
   "metadata": {},
   "outputs": [
    {
     "data": {
      "text/plain": [
       "(1800, 1800)"
      ]
     },
     "execution_count": 6,
     "metadata": {},
     "output_type": "execute_result"
    }
   ],
   "source": [
    "ipixel_process.shape"
   ]
  },
  {
   "cell_type": "code",
   "execution_count": 7,
   "metadata": {},
   "outputs": [
    {
     "data": {
      "text/plain": [
       "34"
      ]
     },
     "execution_count": 7,
     "metadata": {},
     "output_type": "execute_result"
    }
   ],
   "source": [
    "ipixel_process[0,0]"
   ]
  },
  {
   "cell_type": "code",
   "execution_count": 8,
   "metadata": {},
   "outputs": [
    {
     "data": {
      "text/plain": [
       "masked_array(\n",
       "  data=[[ 34,  35,  35, ..., 138, 140, 140],\n",
       "        [ 35,  34,  34, ..., 139, 139, 139],\n",
       "        [ 35,  34,  34, ..., 139, 139, 139],\n",
       "        ...,\n",
       "        [111, 112, 110, ..., 196, 232, 167],\n",
       "        [111, 111, 111, ..., 155, 171, 219],\n",
       "        [111, 112, 111, ..., 155, 152, 163]],\n",
       "  mask=False,\n",
       "  fill_value=999999,\n",
       "  dtype=uint16)"
      ]
     },
     "execution_count": 8,
     "metadata": {},
     "output_type": "execute_result"
    }
   ],
   "source": [
    "ipixel_process"
   ]
  },
  {
   "cell_type": "code",
   "execution_count": 9,
   "metadata": {},
   "outputs": [
    {
     "data": {
      "text/plain": [
       "array([[0.0193, 0.0198, 0.0198, ..., 0.0782, 0.0793, 0.0793],\n",
       "       [0.0198, 0.0193, 0.0193, ..., 0.0787, 0.0787, 0.0787],\n",
       "       [0.0198, 0.0193, 0.0193, ..., 0.0787, 0.0787, 0.0787],\n",
       "       ...,\n",
       "       [0.0629, 0.0634, 0.0623, ..., 0.111 , 0.1314, 0.0946],\n",
       "       [0.0629, 0.0629, 0.0629, ..., 0.0878, 0.0969, 0.1241],\n",
       "       [0.0629, 0.0634, 0.0629, ..., 0.0878, 0.0861, 0.0923]])"
      ]
     },
     "execution_count": 9,
     "metadata": {},
     "output_type": "execute_result"
    }
   ],
   "source": [
    "ipixel_process_masked_converted"
   ]
  },
  {
   "cell_type": "code",
   "execution_count": 10,
   "metadata": {},
   "outputs": [],
   "source": [
    "for i in range(900):\n",
    "    for j in range(900):\n",
    "        ipixel_process[i,j]=2047-ipixel_process[i,j]\n",
    "        ipixel_process[i,j]/=2047\n",
    "        #ipixel_process[i,j]*=255"
   ]
  },
  {
   "cell_type": "code",
   "execution_count": 22,
   "metadata": {},
   "outputs": [
    {
     "data": {
      "text/plain": [
       "masked_array(\n",
       "  data=[[  1,   1,   1, ..., 138, 140, 140],\n",
       "        [  1,   1,   1, ..., 139, 139, 139],\n",
       "        [  1,   1,   1, ..., 139, 139, 139],\n",
       "        ...,\n",
       "        [111, 112, 110, ..., 196, 232, 167],\n",
       "        [111, 111, 111, ..., 155, 171, 219],\n",
       "        [111, 112, 111, ..., 155, 152, 163]],\n",
       "  mask=False,\n",
       "  fill_value=999999,\n",
       "  dtype=uint16)"
      ]
     },
     "execution_count": 22,
     "metadata": {},
     "output_type": "execute_result"
    }
   ],
   "source": [
    "ipixel_process"
   ]
  },
  {
   "cell_type": "code",
   "execution_count": 11,
   "metadata": {},
   "outputs": [
    {
     "name": "stderr",
     "output_type": "stream",
     "text": [
      "Lossy conversion from float64 to uint8. Range [0, 1]. Convert image to uint8 prior to saving to suppress this warning.\n"
     ]
    }
   ],
   "source": [
    "import imageio\n",
    "\n",
    "imageio.imsave(\"ddd.png\", ipixel_process_masked_converted)"
   ]
  }
 ],
 "metadata": {
  "kernelspec": {
   "display_name": "Python 3.10.6 64-bit",
   "language": "python",
   "name": "python3"
  },
  "language_info": {
   "codemirror_mode": {
    "name": "ipython",
    "version": 3
   },
   "file_extension": ".py",
   "mimetype": "text/x-python",
   "name": "python",
   "nbconvert_exporter": "python",
   "pygments_lexer": "ipython3",
   "version": "3.10.6"
  },
  "orig_nbformat": 4,
  "vscode": {
   "interpreter": {
    "hash": "6f8c7e6e15a334122b9b1d9cb489114c5544af0cb199f253b883b368ab86aa24"
   }
  }
 },
 "nbformat": 4,
 "nbformat_minor": 2
}
