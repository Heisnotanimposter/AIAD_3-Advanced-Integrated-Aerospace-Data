{
 "cells": [
  {
   "cell_type": "code",
   "execution_count": 6,
   "metadata": {},
   "outputs": [
    {
     "data": {
      "text/plain": [
       "(24, 30, 64, 64)"
      ]
     },
     "execution_count": 6,
     "metadata": {},
     "output_type": "execute_result"
    }
   ],
   "source": [
    "import numpy as np\n",
    "import os\n",
    "from PIL import Image\n",
    "input_path = \"D:\\VSCODE\\weather_resource\\\\202101cldcr200re64\"\n",
    "temp_data=[]\n",
    "training_data=np.empty([24,0,64,64])\n",
    "\n",
    "filename = os.listdir(input_path)\n",
    "j=0\n",
    "daycount = 0\n",
    "for i in range(744):\n",
    "    if(j == 24):\n",
    "        j = 0\n",
    "        temp_data = np.reshape(temp_data,(24,1,64,64))\n",
    "        training_data=np.concatenate((temp_data,training_data),axis=1)\n",
    "\n",
    "        temp_data = []\n",
    "        daycount +=1\n",
    "    if daycount == 40:\n",
    "        break\n",
    "    image_path = os.path.join(input_path,filename[j])\n",
    "    image = Image.open(image_path).convert('L')\n",
    "    temp_data.append(np.asarray(image))\n",
    "    j += 1\n",
    "#training_data = np.reshape(training_data,(24,31,200,200))\n",
    "training_data.shape\n"
   ]
  },
  {
   "cell_type": "code",
   "execution_count": 7,
   "metadata": {},
   "outputs": [
    {
     "data": {
      "text/plain": [
       "744"
      ]
     },
     "execution_count": 7,
     "metadata": {},
     "output_type": "execute_result"
    }
   ],
   "source": [
    "len(os.listdir(input_path))"
   ]
  },
  {
   "cell_type": "code",
   "execution_count": 8,
   "metadata": {},
   "outputs": [],
   "source": [
    "with open('202101cldcr200re64.npy', 'wb') as f:\n",
    "    np.save(f, training_data)"
   ]
  }
 ],
 "metadata": {
  "kernelspec": {
   "display_name": "Python 3.10.6 64-bit",
   "language": "python",
   "name": "python3"
  },
  "language_info": {
   "codemirror_mode": {
    "name": "ipython",
    "version": 3
   },
   "file_extension": ".py",
   "mimetype": "text/x-python",
   "name": "python",
   "nbconvert_exporter": "python",
   "pygments_lexer": "ipython3",
   "version": "3.10.6"
  },
  "orig_nbformat": 4,
  "vscode": {
   "interpreter": {
    "hash": "6f8c7e6e15a334122b9b1d9cb489114c5544af0cb199f253b883b368ab86aa24"
   }
  }
 },
 "nbformat": 4,
 "nbformat_minor": 2
}
