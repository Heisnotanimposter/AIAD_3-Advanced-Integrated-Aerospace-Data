{
 "cells": [
  {
   "cell_type": "code",
   "execution_count": 1,
   "metadata": {},
   "outputs": [],
   "source": [
    "import cv2\n",
    "import numpy as np\n",
    "import os\n",
    "x = 416\n",
    "y = 476\n",
    "rg = 200"
   ]
  },
  {
   "cell_type": "code",
   "execution_count": 2,
   "metadata": {},
   "outputs": [],
   "source": [
    "input_path = \"D:\\VSCODE\\weather_resource\\\\202101cldpng\"\n",
    "output_path = \"D:\\VSCODE\\weather_resource\\\\202101cldpngcrop200\"\n",
    "for filename in os.listdir(input_path):\n",
    "    image_path = os.path.join(input_path,filename)\n",
    "    save_path = os.path.join(output_path,filename)\n",
    "    source = cv2.imread(image_path)\n",
    "    #cv2.imshow(\"original\", source)\n",
    "    crop_img = source[y:y+rg,x:x+rg]#슬라이싱\n",
    "\n",
    "    cv2.imwrite(save_path, crop_img)\n",
    "    #print(save_path)"
   ]
  },
  {
   "cell_type": "code",
   "execution_count": null,
   "metadata": {},
   "outputs": [],
   "source": [
    "#자른 범위 체크\n",
    "blue_color = (255, 0, 0)\n",
    "rgb_image = cv2.imread(\"D:\\VSCODE\\weather_resource\\\\202101cldpng\\gk2a_ami_le2_cld_ko020lc_202101010000.nc.png\")\n",
    "img = cv2.rectangle(rgb_image, (x, y), (x+rg, y+rg), blue_color)\n",
    "cv2.imshow(\"dd\",img)\n",
    "cv2.waitKey(0)\n",
    "cv2.destroyAllWindow()"
   ]
  }
 ],
 "metadata": {
  "kernelspec": {
   "display_name": "Python 3.10.6 64-bit",
   "language": "python",
   "name": "python3"
  },
  "language_info": {
   "codemirror_mode": {
    "name": "ipython",
    "version": 3
   },
   "file_extension": ".py",
   "mimetype": "text/x-python",
   "name": "python",
   "nbconvert_exporter": "python",
   "pygments_lexer": "ipython3",
   "version": "3.10.6"
  },
  "orig_nbformat": 4,
  "vscode": {
   "interpreter": {
    "hash": "6f8c7e6e15a334122b9b1d9cb489114c5544af0cb199f253b883b368ab86aa24"
   }
  }
 },
 "nbformat": 4,
 "nbformat_minor": 2
}
