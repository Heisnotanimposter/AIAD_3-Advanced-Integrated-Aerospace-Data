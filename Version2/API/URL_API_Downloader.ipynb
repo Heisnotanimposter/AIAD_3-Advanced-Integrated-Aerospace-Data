{
 "cells": [
  {
   "cell_type": "markdown",
   "metadata": {},
   "source": [
    "# 기상청 OPEN URL API 서비스"
   ]
  },
  {
   "cell_type": "code",
   "execution_count": 3,
   "metadata": {},
   "outputs": [],
   "source": [
    "import requests  # to make GET request\n",
    "import re\n",
    "import calendar\n",
    "import time\n",
    "\n",
    "\n",
    "satgk2aobs = 'http://203.247.66.126:8090/url/sat_gk2a_obs_file.php?'\n",
    "satgk2aana = \"http://203.247.66.126:8090/url/sat_gk2a_ana_file.php?\"\n",
    "ir096 = \"&ch=ir096&map=ko&authKey=\"\n",
    "vi004 = \"&ch=vi004&map=ko&authKey=\"\n",
    "cla = \"&ch=cla&map=ko&authKey=\"\n",
    "cld = \"&ch=cld&map=ko&authKey=\"\n",
    "authKey = [\"junhuk1113@naver.com\",\"dotoro.kim@gmail.com\",\"dspkhan@hanmail.net\",\"redcar1024@gmail.com\",\"ohsun8436@nate.com\",\"junhuk1113@gmail.com\",\"junhuk1113@daum.net\"]\n",
    "      \n",
    "def download(url,authkeycode):\n",
    "    count = 0\n",
    "    while True:\n",
    "        \n",
    "        if count == 20:\n",
    "            count = 0\n",
    "            print(\"Too many request 1min delay\")\n",
    "            time.sleep(60)\n",
    "        try:\n",
    "            print(\"Requesting url data\")\n",
    "            counter(authkeycode)\n",
    "            r = requests.get(url,timeout=2)\n",
    "            if(r.text[0]=='#'):\n",
    "                return \"file not exist\"\n",
    "            elif(r.text[0]=='<'):\n",
    "                return \"The number of requests has reached the limit\"\n",
    "            d = r.headers['content-disposition']\n",
    "        except :\n",
    "            print(\"time out, 1sec delaying..\")\n",
    "            count += 1\n",
    "            time.sleep(1)\n",
    "        else: \n",
    "            break\n",
    "    file_name = re.findall(\"filename=\\\"(.+)\\\"\", d)[0]\n",
    "\n",
    "    with open(\"D:/VSCODE/weather_resource/download/\"+file_name, \"wb\") as file:   # open in binary mode\n",
    "                    # get request\n",
    "        file.write(r.content)      # write to file\n",
    "    return file_name + \" saved successfully!\"\n",
    "\n",
    "def counter(authkey):\n",
    "    f = open(\"request_Count.txt\",\"r\")\n",
    "    data=f.readline()\n",
    "    f.close()\n",
    "    data=data.split()\n",
    "    data[authkey]=str(int(data[authkey]) + 1)\n",
    "    f = open(\"request_Count.txt\",\"w\")\n",
    "    #print(data)\n",
    "    f.write(' '.join(data))\n",
    "    f.close()\n",
    "    return data\n",
    "def strch(num):\n",
    "    if num < 10:\n",
    "        num = \"0\" +str(num)\n",
    "    else: num = str(num)\n",
    "    return num\n",
    "def geturl(sat, ch, month,day,hour,min,authkeycode):\n",
    "    month = strch(month)\n",
    "    day = strch(day)\n",
    "    hour = strch(hour)\n",
    "    min = strch(min)\n",
    "    url = sat + \"tm=2022\" +month+day+hour+min+ch+authKey[authkeycode]\n",
    "    return url"
   ]
  },
  {
   "cell_type": "code",
   "execution_count": null,
   "metadata": {},
   "outputs": [],
   "source": [
    "authkeycode =0\n",
    "\n",
    "for month in range(1,2):\n",
    "    monrange = calendar.monthrange(2022,month)\n",
    "    for day in range(1,8):#monrange[1]+1\n",
    "        hour = 0\n",
    "        for hour in range(24):\n",
    "            min = 0\n",
    "            while min < 60:\n",
    "                url=geturl(satgk2aana,cld,month,day,hour,min,authkeycode)\n",
    "                print(url)\n",
    "\n",
    "                result=download(url,authkeycode)\n",
    "                print(result)\n",
    "                if result==\"The number of requests has reached the limit\":\n",
    "                    authkeycode += 1\n",
    "                    hour -= 1\n",
    "                #seldown(url)\n",
    "                time.sleep(1)\n",
    "\n",
    "                min += 2\n",
    "            \n",
    "\n",
    "#http://203.247.66.126:8090/url/sat_gk2a_ana_file.php?tm=202106281400&ch=cld&map=ko&authKey=ohsun8436@nate.com\n"
   ]
  },
  {
   "cell_type": "markdown",
   "metadata": {},
   "source": [
    "---"
   ]
  }
 ],
 "metadata": {
  "kernelspec": {
   "display_name": "Python 3.10.6 64-bit",
   "language": "python",
   "name": "python3"
  },
  "language_info": {
   "codemirror_mode": {
    "name": "ipython",
    "version": 3
   },
   "file_extension": ".py",
   "mimetype": "text/x-python",
   "name": "python",
   "nbconvert_exporter": "python",
   "pygments_lexer": "ipython3",
   "version": "3.10.6"
  },
  "orig_nbformat": 4,
  "vscode": {
   "interpreter": {
    "hash": "6f8c7e6e15a334122b9b1d9cb489114c5544af0cb199f253b883b368ab86aa24"
   }
  }
 },
 "nbformat": 4,
 "nbformat_minor": 2
}
