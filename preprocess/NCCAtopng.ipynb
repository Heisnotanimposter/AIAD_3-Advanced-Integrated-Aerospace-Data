{
 "cells": [
  {
   "cell_type": "code",
   "execution_count": 27,
   "metadata": {},
   "outputs": [],
   "source": [
    "import netCDF4\n",
    "import numpy as np\n",
    "import os\n",
    "import imageio\n",
    "import cv2\n",
    "\n",
    "CT_path='./conversion_table/'\n",
    "\n",
    "\n",
    "def ncTopng(input_ncfile_path, output_path):\n",
    "    ncfile = netCDF4.Dataset(input_ncfile_path,'r',format='netcdf4')\n",
    "    ipixel=ncfile.variables['CLD']\n",
    "    ipixel_process = ipixel[:]\n",
    "    #ipixel_process *= 255 # or any coefficient\n",
    "    I = ipixel_process.astype(np.uint8)\n",
    "    I = cv2.normalize(I, None, 0, 255, cv2.NORM_MINMAX, cv2.CV_8U)\n",
    "    I=255-I\n",
    "    imageio.imsave(output_path, I)"
   ]
  },
  {
   "cell_type": "code",
   "execution_count": 28,
   "metadata": {},
   "outputs": [],
   "source": [
    "input_path = \"D:\\VSCODE\\weather_resource\\\\202101cld\"\n",
    "output_path = \"D:\\VSCODE\\weather_resource\\\\202101cldpng\"\n",
    "for filename in os.listdir(input_path):\n",
    "      nc_path = os.path.join(input_path,filename)\n",
    "      out_path = os.path.join(output_path,filename+\".png\")\n",
    "      #print(nc_path)\n",
    "      #print(out_path)\n",
    "      ncTopng(nc_path, out_path)"
   ]
  }
 ],
 "metadata": {
  "kernelspec": {
   "display_name": "Python 3.10.6 64-bit",
   "language": "python",
   "name": "python3"
  },
  "language_info": {
   "codemirror_mode": {
    "name": "ipython",
    "version": 3
   },
   "file_extension": ".py",
   "mimetype": "text/x-python",
   "name": "python",
   "nbconvert_exporter": "python",
   "pygments_lexer": "ipython3",
   "version": "3.10.6"
  },
  "orig_nbformat": 4,
  "vscode": {
   "interpreter": {
    "hash": "6f8c7e6e15a334122b9b1d9cb489114c5544af0cb199f253b883b368ab86aa24"
   }
  }
 },
 "nbformat": 4,
 "nbformat_minor": 2
}
