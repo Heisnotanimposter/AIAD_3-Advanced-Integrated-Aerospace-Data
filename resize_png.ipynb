{
 "cells": [
  {
   "cell_type": "code",
   "execution_count": 1,
   "metadata": {},
   "outputs": [],
   "source": [
    "import cv2\n",
    "import numpy as np\n",
    "import os\n",
    "\n",
    "input_path = \"D:\\VSCODE\\weather_resource\\\\202101cldpngcrop200\"\n",
    "output_path = \"D:\\VSCODE\\weather_resource\\\\202101cldcr200re64\"\n",
    "for filename in os.listdir(input_path):\n",
    "    image_path = os.path.join(input_path,filename)\n",
    "    save_path = os.path.join(output_path,filename)\n",
    "    source = cv2.imread(image_path)\n",
    "    #cv2.imshow(\"original\", source)\n",
    "    \n",
    "    resize_img = cv2.resize(source, (64, 64))\n",
    "\n",
    "    cv2.imwrite(save_path, resize_img)\n",
    "    #print(save_path)"
   ]
  }
 ],
 "metadata": {
  "kernelspec": {
   "display_name": "Python 3.10.6 64-bit",
   "language": "python",
   "name": "python3"
  },
  "language_info": {
   "codemirror_mode": {
    "name": "ipython",
    "version": 3
   },
   "file_extension": ".py",
   "mimetype": "text/x-python",
   "name": "python",
   "nbconvert_exporter": "python",
   "pygments_lexer": "ipython3",
   "version": "3.10.6"
  },
  "orig_nbformat": 4,
  "vscode": {
   "interpreter": {
    "hash": "6f8c7e6e15a334122b9b1d9cb489114c5544af0cb199f253b883b368ab86aa24"
   }
  }
 },
 "nbformat": 4,
 "nbformat_minor": 2
}
