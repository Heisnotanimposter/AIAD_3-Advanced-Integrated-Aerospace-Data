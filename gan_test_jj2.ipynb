{
  "nbformat": 4,
  "nbformat_minor": 0,
  "metadata": {
    "colab": {
      "provenance": [],
      "collapsed_sections": [],
      "include_colab_link": true
    },
    "kernelspec": {
      "name": "python3",
      "display_name": "Python 3"
    },
    "language_info": {
      "name": "python"
    },
    "accelerator": "GPU"
  },
  "cells": [
    {
      "cell_type": "markdown",
      "metadata": {
        "id": "view-in-github",
        "colab_type": "text"
      },
      "source": [
        "<a href=\"https://colab.research.google.com/github/junhuk1113/AIAD_weather/blob/master/gan_test_jj2.ipynb\" target=\"_parent\"><img src=\"https://colab.research.google.com/assets/colab-badge.svg\" alt=\"Open In Colab\"/></a>"
      ]
    },
    {
      "cell_type": "code",
      "source": [
        "from google.colab import drive\n",
        "drive.mount('/content/drive')"
      ],
      "metadata": {
        "colab": {
          "base_uri": "https://localhost:8080/"
        },
        "id": "AR-zR05gg-g6",
        "outputId": "b7624240-8c37-4487-ef4b-9e3455752886"
      },
      "execution_count": null,
      "outputs": [
        {
          "output_type": "stream",
          "name": "stdout",
          "text": [
            "Mounted at /content/drive\n"
          ]
        }
      ]
    },
    {
      "cell_type": "code",
      "source": [
        "!unzip /content/drive/MyDrive/데이터공유폴더/dataset/cat_dog_dataset.zip"
      ],
      "metadata": {
        "id": "hjKGLT-n6Tv_"
      },
      "execution_count": null,
      "outputs": []
    },
    {
      "cell_type": "code",
      "execution_count": null,
      "metadata": {
        "id": "-C7vv_Xjz5Ai",
        "colab": {
          "base_uri": "https://localhost:8080/"
        },
        "outputId": "f0f73c37-3849-4724-cad3-74119b0f4ba7"
      },
      "outputs": [
        {
          "output_type": "stream",
          "name": "stdout",
          "text": [
            "will generate 64 px square images.\n"
          ]
        }
      ],
      "source": [
        "import tensorflow as tf\n",
        "from tensorflow.keras.layers import Input, Reshape, Dropout, Dense\n",
        "from tensorflow.keras.layers import Flatten, BatchNormalization\n",
        "from tensorflow.keras.layers import Activation,ZeroPadding2D\n",
        "from tensorflow.keras.layers import LeakyReLU\n",
        "from tensorflow.keras.layers import UpSampling2D, Conv2D\n",
        "from tensorflow.keras.models import Sequential, Model, load_model\n",
        "from tensorflow.keras.optimizers import Adam\n",
        "\n",
        "import numpy as np\n",
        "from PIL import Image\n",
        "from tqdm import tqdm\n",
        "import matplotlib.pyplot as plt\n",
        "import os\n",
        "import time\n",
        "\n",
        "GENERATE_RES = 2\n",
        "GENERATE_SQUARE = 32 * GENERATE_RES\n",
        "IMAGE_CHANNELS = 1\n",
        "\n",
        "PREVIEW_ROWS = 4\n",
        "PREVIEW_COLS = 7\n",
        "PREVIEW_MARGIN = 16\n",
        "\n",
        "SEED_SIZE = 100\n",
        "\n",
        "DATA_PATH = '/content/training_set/cats'\n",
        "EPOCHS = 200\n",
        "BATCH_SIZE = 64\n",
        "BUFFER_SIZE = 60000\n",
        "\n",
        "print(f\"will generate {GENERATE_SQUARE} px square images.\")\n",
        "\n"
      ]
    },
    {
      "cell_type": "code",
      "source": [
        "os.makedirs('./gan_images_002')"
      ],
      "metadata": {
        "id": "NR3m-tVu0qiB"
      },
      "execution_count": null,
      "outputs": []
    },
    {
      "cell_type": "code",
      "source": [
        "training_data = np.load(\"/content/drive/MyDrive/PBL_Shared_Data/202101cldcr200re64744.npy\")"
      ],
      "metadata": {
        "id": "N_bNEH8s5pio"
      },
      "execution_count": null,
      "outputs": []
    },
    {
      "cell_type": "code",
      "source": [
        "train_dataset = tf.data.Dataset.from_tensor_slices(training_data).shuffle(BUFFER_SIZE).batch(BATCH_SIZE)"
      ],
      "metadata": {
        "id": "24Uirsdp6Gf2"
      },
      "execution_count": null,
      "outputs": []
    },
    {
      "cell_type": "code",
      "source": [
        "def build_generator(seed_size, channels):\n",
        "    model = Sequential()\n",
        "\n",
        "    model.add(Dense(4*4*256,activation=\"relu\",input_dim=seed_size))\n",
        "    model.add(Reshape((4,4,256)))\n",
        "\n",
        "    model.add(UpSampling2D())\n",
        "    model.add(Conv2D(256,kernel_size=3,padding=\"same\"))\n",
        "    model.add(BatchNormalization(momentum=0.8))\n",
        "    model.add(Activation(\"relu\"))\n",
        "\n",
        "    model.add(UpSampling2D())\n",
        "    model.add(Conv2D(256,kernel_size=3,padding=\"same\"))\n",
        "    model.add(BatchNormalization(momentum=0.8))\n",
        "    model.add(Activation(\"relu\"))\n",
        "   \n",
        "    # Output resolution, additional upsampling\n",
        "    model.add(UpSampling2D())\n",
        "    model.add(Conv2D(128,kernel_size=3,padding=\"same\"))\n",
        "    model.add(BatchNormalization(momentum=0.8))\n",
        "    model.add(Activation(\"relu\"))\n",
        "\n",
        "    if GENERATE_RES>1:\n",
        "      model.add(UpSampling2D(size=(GENERATE_RES,GENERATE_RES)))\n",
        "      model.add(Conv2D(128,kernel_size=3,padding=\"same\"))\n",
        "      model.add(BatchNormalization(momentum=0.8))\n",
        "      model.add(Activation(\"relu\"))\n",
        "\n",
        "    # Final CNN layer\n",
        "    model.add(Conv2D(channels,kernel_size=3,padding=\"same\"))\n",
        "    model.add(Activation(\"tanh\"))\n",
        "\n",
        "    return model\n",
        "\n",
        "\n",
        "def build_discriminator(image_shape):\n",
        "    model = Sequential()\n",
        "\n",
        "    model.add(Conv2D(32, kernel_size=3, strides=2, input_shape=image_shape, \n",
        "                     padding=\"same\"))\n",
        "    model.add(LeakyReLU(alpha=0.2))\n",
        "\n",
        "    model.add(Dropout(0.25))\n",
        "    model.add(Conv2D(64, kernel_size=3, strides=2, padding=\"same\"))\n",
        "    model.add(ZeroPadding2D(padding=((0,1),(0,1))))\n",
        "    model.add(BatchNormalization(momentum=0.8))\n",
        "    model.add(LeakyReLU(alpha=0.2))\n",
        "\n",
        "    model.add(Dropout(0.25))\n",
        "    model.add(Conv2D(128, kernel_size=3, strides=2, padding=\"same\"))\n",
        "    model.add(BatchNormalization(momentum=0.8))\n",
        "    model.add(LeakyReLU(alpha=0.2))\n",
        "\n",
        "    model.add(Dropout(0.25))\n",
        "    model.add(Conv2D(256, kernel_size=3, strides=1, padding=\"same\"))\n",
        "    model.add(BatchNormalization(momentum=0.8))\n",
        "    model.add(LeakyReLU(alpha=0.2))\n",
        "\n",
        "    model.add(Dropout(0.25))\n",
        "    model.add(Conv2D(512, kernel_size=3, strides=1, padding=\"same\"))\n",
        "    model.add(BatchNormalization(momentum=0.8))\n",
        "    model.add(LeakyReLU(alpha=0.2))\n",
        "\n",
        "    model.add(Dropout(0.25))\n",
        "    model.add(Flatten())\n",
        "    model.add(Dense(1, activation='sigmoid'))\n",
        "\n",
        "    return model"
      ],
      "metadata": {
        "id": "JIPxbyRh86uu"
      },
      "execution_count": null,
      "outputs": []
    },
    {
      "cell_type": "code",
      "source": [
        "def save_images(cnt,noise):\n",
        "  image_array = np.full(( \n",
        "      PREVIEW_MARGIN + (PREVIEW_ROWS * (GENERATE_SQUARE+PREVIEW_MARGIN)), \n",
        "      PREVIEW_MARGIN + (PREVIEW_COLS * (GENERATE_SQUARE+PREVIEW_MARGIN)), 3), \n",
        "      255, dtype=np.uint8)\n",
        "  \n",
        "  generated_images = generator.predict(noise)\n",
        "\n",
        "  generated_images = 0.5 * generated_images + 0.5\n",
        "\n",
        "  image_count = 0\n",
        "  for row in range(PREVIEW_ROWS):\n",
        "      for col in range(PREVIEW_COLS):\n",
        "        r = row * (GENERATE_SQUARE+16) + PREVIEW_MARGIN\n",
        "        c = col * (GENERATE_SQUARE+16) + PREVIEW_MARGIN\n",
        "        image_array[r:r+GENERATE_SQUARE,c:c+GENERATE_SQUARE] = generated_images[image_count] * 255\n",
        "        image_count += 1\n",
        "\n",
        "          \n",
        "  output_path = os.path.join(DATA_PATH,'output')\n",
        "  if not os.path.exists(output_path):\n",
        "    os.makedirs(output_path)\n",
        "  \n",
        "  filename = os.path.join(output_path,f\"train-{cnt}.png\")\n",
        "  im = Image.fromarray(image_array)\n",
        "  im.save(filename)"
      ],
      "metadata": {
        "id": "mYM7JoK9-Dk3"
      },
      "execution_count": null,
      "outputs": []
    },
    {
      "cell_type": "code",
      "source": [
        "generator = build_generator(SEED_SIZE, IMAGE_CHANNELS)\n",
        "\n",
        "noise = tf.random.normal([1, SEED_SIZE])\n",
        "generated_image = generator(noise, training=False)\n",
        "\n",
        "plt.imshow(generated_image[0, :, :, 0])"
      ],
      "metadata": {
        "colab": {
          "base_uri": "https://localhost:8080/",
          "height": 285
        },
        "id": "u9ISFE01-Iyn",
        "outputId": "6bd51568-beba-44ac-a1b6-09c14abc4f02"
      },
      "execution_count": null,
      "outputs": [
        {
          "output_type": "execute_result",
          "data": {
            "text/plain": [
              "<matplotlib.image.AxesImage at 0x7f2b7e354c10>"
            ]
          },
          "metadata": {},
          "execution_count": 24
        },
        {
          "output_type": "display_data",
          "data": {
            "text/plain": [
              "<Figure size 432x288 with 1 Axes>"
            ],
            "image/png": "[encoded data removed]"
          },
          "metadata": {
            "needs_background": "light"
          }
        }
      ]
    },
    {
      "cell_type": "markdown",
      "source": [],
      "metadata": {
        "id": "6JEFniCYPwR5"
      }
    },
    {
      "cell_type": "code",
      "source": [
        "image_shape = (GENERATE_SQUARE,GENERATE_SQUARE,IMAGE_CHANNELS)\n",
        "\n",
        "discriminator = build_discriminator(image_shape)\n",
        "decision = discriminator(generated_image)\n",
        "print (decision)"
      ],
      "metadata": {
        "colab": {
          "base_uri": "https://localhost:8080/"
        },
        "id": "ie0rBNJX-MAH",
        "outputId": "c19b1634-f179-4e44-ac9b-11f43ec43572"
      },
      "execution_count": null,
      "outputs": [
        {
          "output_type": "stream",
          "name": "stdout",
          "text": [
            "tf.Tensor([[0.5005709]], shape=(1, 1), dtype=float32)\n"
          ]
        }
      ]
    },
    {
      "cell_type": "code",
      "source": [
        "cross_entropy = tf.keras.losses.BinaryCrossentropy()\n",
        "\n",
        "def discriminator_loss(real_output, fake_output):\n",
        "    real_loss = cross_entropy(tf.ones_like(real_output), real_output)\n",
        "    fake_loss = cross_entropy(tf.zeros_like(fake_output), fake_output)\n",
        "    total_loss = real_loss + fake_loss\n",
        "    return total_loss\n",
        "\n",
        "def generator_loss(fake_output):\n",
        "    return cross_entropy(tf.ones_like(fake_output), fake_output)"
      ],
      "metadata": {
        "id": "avbcB8Vo-TOH"
      },
      "execution_count": null,
      "outputs": []
    },
    {
      "cell_type": "code",
      "source": [
        "generator_optimizer = tf.keras.optimizers.Adam(1.5e-4,0.5)\n",
        "discriminator_optimizer = tf.keras.optimizers.Adam(1.5e-4,0.5)"
      ],
      "metadata": {
        "id": "d1og3Jgq-ULT"
      },
      "execution_count": null,
      "outputs": []
    },
    {
      "cell_type": "code",
      "source": [
        "@tf.function\n",
        "def train_step(images):\n",
        "  seed = tf.random.normal([BATCH_SIZE, SEED_SIZE])\n",
        "\n",
        "  with tf.GradientTape() as gen_tape, tf.GradientTape() as disc_tape:\n",
        "    generated_images = generator(seed, training=True)\n",
        "\n",
        "    real_output = discriminator(images, training=True)\n",
        "    fake_output = discriminator(generated_images, training=True)\n",
        "\n",
        "    gen_loss = generator_loss(fake_output)\n",
        "    disc_loss = discriminator_loss(real_output, fake_output)\n",
        "    \n",
        "\n",
        "    gradients_of_generator = gen_tape.gradient(\n",
        "        gen_loss, generator.trainable_variables)\n",
        "    gradients_of_discriminator = disc_tape.gradient(\n",
        "        disc_loss, discriminator.trainable_variables)\n",
        "\n",
        "    generator_optimizer.apply_gradients(zip(\n",
        "        gradients_of_generator, generator.trainable_variables))\n",
        "    discriminator_optimizer.apply_gradients(zip(\n",
        "        gradients_of_discriminator, \n",
        "        discriminator.trainable_variables))\n",
        "  return gen_loss,disc_loss"
      ],
      "metadata": {
        "id": "2LC6iN5o-WOs"
      },
      "execution_count": null,
      "outputs": []
    },
    {
      "cell_type": "code",
      "source": [
        "def train(dataset, epochs):\n",
        "  fixed_seed = np.random.normal(0, 1, (PREVIEW_ROWS * PREVIEW_COLS, \n",
        "                                       SEED_SIZE))\n",
        "  start = time.time()\n",
        "\n",
        "  for epoch in range(epochs):\n",
        "    epoch_start = time.time()\n",
        "\n",
        "    gen_loss_list = []\n",
        "    disc_loss_list = []\n",
        "\n",
        "    for image_batch in dataset:\n",
        "      t = train_step(image_batch)\n",
        "      gen_loss_list.append(t[0])\n",
        "      disc_loss_list.append(t[1])\n",
        "\n",
        "    g_loss = sum(gen_loss_list) / len(gen_loss_list)\n",
        "    d_loss = sum(disc_loss_list) / len(disc_loss_list)\n",
        "\n",
        "    epoch_elapsed = time.time()-epoch_start\n",
        "    print (f'Epoch {epoch+1}, gen loss={g_loss},disc loss={d_loss},'\n",
        "           ' {hms_string(epoch_elapsed)}')\n",
        "    save_images(epoch,fixed_seed)\n"
      ],
      "metadata": {
        "id": "Be5mH8az-ZGr"
      },
      "execution_count": null,
      "outputs": []
    },
    {
      "cell_type": "code",
      "source": [
        "train(train_dataset, EPOCHS)"
      ],
      "metadata": {
        "colab": {
          "base_uri": "https://localhost:8080/"
        },
        "id": "Mt1jvon3-cQr",
        "outputId": "10ccd0f0-1370-42c4-99c4-c59d56877208"
      },
      "execution_count": null,
      "outputs": [
        {
          "output_type": "stream",
          "name": "stdout",
          "text": [
            "Epoch 1, gen loss=2.714590072631836,disc loss=0.579259991645813, {hms_string(epoch_elapsed)}\n",
            "1/1 [==============================] - 0s 394ms/step\n",
            "Epoch 2, gen loss=3.2048513889312744,disc loss=0.26010045409202576, {hms_string(epoch_elapsed)}\n",
            "1/1 [==============================] - 0s 15ms/step\n",
            "Epoch 3, gen loss=3.228337049484253,disc loss=0.6126163005828857, {hms_string(epoch_elapsed)}\n",
            "1/1 [==============================] - 0s 16ms/step\n",
            "Epoch 4, gen loss=2.9671413898468018,disc loss=0.8906185626983643, {hms_string(epoch_elapsed)}\n",
            "1/1 [==============================] - 0s 15ms/step\n",
            "Epoch 5, gen loss=3.1370441913604736,disc loss=0.5706687569618225, {hms_string(epoch_elapsed)}\n",
            "1/1 [==============================] - 0s 15ms/step\n",
            "Epoch 6, gen loss=3.8834283351898193,disc loss=0.20371942222118378, {hms_string(epoch_elapsed)}\n",
            "1/1 [==============================] - 0s 14ms/step\n",
            "Epoch 7, gen loss=4.425318241119385,disc loss=0.1145683154463768, {hms_string(epoch_elapsed)}\n",
            "1/1 [==============================] - 0s 16ms/step\n",
            "Epoch 8, gen loss=4.666859149932861,disc loss=0.11279699951410294, {hms_string(epoch_elapsed)}\n",
            "1/1 [==============================] - 0s 14ms/step\n",
            "Epoch 9, gen loss=5.552424907684326,disc loss=0.04334895312786102, {hms_string(epoch_elapsed)}\n",
            "1/1 [==============================] - 0s 21ms/step\n",
            "Epoch 10, gen loss=5.643667221069336,disc loss=0.03483814373612404, {hms_string(epoch_elapsed)}\n",
            "1/1 [==============================] - 0s 16ms/step\n",
            "Epoch 11, gen loss=6.371957778930664,disc loss=0.0228230282664299, {hms_string(epoch_elapsed)}\n",
            "1/1 [==============================] - 0s 17ms/step\n",
            "Epoch 12, gen loss=7.015087127685547,disc loss=0.013214186765253544, {hms_string(epoch_elapsed)}\n",
            "1/1 [==============================] - 0s 15ms/step\n",
            "Epoch 13, gen loss=7.079814910888672,disc loss=0.009786604903638363, {hms_string(epoch_elapsed)}\n",
            "1/1 [==============================] - 0s 15ms/step\n",
            "Epoch 14, gen loss=6.606667995452881,disc loss=0.01673174649477005, {hms_string(epoch_elapsed)}\n",
            "1/1 [==============================] - 0s 25ms/step\n",
            "Epoch 15, gen loss=7.1243462562561035,disc loss=0.007505136076360941, {hms_string(epoch_elapsed)}\n",
            "1/1 [==============================] - 0s 17ms/step\n",
            "Epoch 16, gen loss=7.545376300811768,disc loss=0.006534712854772806, {hms_string(epoch_elapsed)}\n",
            "1/1 [==============================] - 0s 15ms/step\n",
            "Epoch 17, gen loss=8.320223808288574,disc loss=0.0028274578507989645, {hms_string(epoch_elapsed)}\n",
            "1/1 [==============================] - 0s 16ms/step\n",
            "Epoch 18, gen loss=7.823259353637695,disc loss=0.0047792368568480015, {hms_string(epoch_elapsed)}\n",
            "1/1 [==============================] - 0s 15ms/step\n",
            "Epoch 19, gen loss=7.442920207977295,disc loss=0.009718936868011951, {hms_string(epoch_elapsed)}\n",
            "1/1 [==============================] - 0s 17ms/step\n",
            "Epoch 20, gen loss=7.778074264526367,disc loss=0.0057472605258226395, {hms_string(epoch_elapsed)}\n",
            "1/1 [==============================] - 0s 15ms/step\n",
            "Epoch 21, gen loss=7.800146579742432,disc loss=0.005726562812924385, {hms_string(epoch_elapsed)}\n",
            "1/1 [==============================] - 0s 15ms/step\n",
            "Epoch 22, gen loss=7.957932949066162,disc loss=0.005525641608983278, {hms_string(epoch_elapsed)}\n",
            "1/1 [==============================] - 0s 16ms/step\n",
            "Epoch 23, gen loss=8.054998397827148,disc loss=0.006688188761472702, {hms_string(epoch_elapsed)}\n",
            "1/1 [==============================] - 0s 15ms/step\n",
            "Epoch 24, gen loss=8.330324172973633,disc loss=0.003430721117183566, {hms_string(epoch_elapsed)}\n",
            "1/1 [==============================] - 0s 15ms/step\n",
            "Epoch 25, gen loss=8.178939819335938,disc loss=0.003965126816183329, {hms_string(epoch_elapsed)}\n",
            "1/1 [==============================] - 0s 16ms/step\n",
            "Epoch 26, gen loss=8.198351860046387,disc loss=0.0035753862466663122, {hms_string(epoch_elapsed)}\n",
            "1/1 [==============================] - 0s 15ms/step\n",
            "Epoch 27, gen loss=8.386175155639648,disc loss=0.0032581465784460306, {hms_string(epoch_elapsed)}\n",
            "1/1 [==============================] - 0s 15ms/step\n",
            "Epoch 28, gen loss=8.112671852111816,disc loss=0.0039200023747980595, {hms_string(epoch_elapsed)}\n",
            "1/1 [==============================] - 0s 15ms/step\n",
            "Epoch 29, gen loss=8.337063789367676,disc loss=0.004536066669970751, {hms_string(epoch_elapsed)}\n",
            "1/1 [==============================] - 0s 31ms/step\n",
            "Epoch 30, gen loss=8.520341873168945,disc loss=0.004027731716632843, {hms_string(epoch_elapsed)}\n",
            "1/1 [==============================] - 0s 15ms/step\n",
            "Epoch 31, gen loss=8.897204399108887,disc loss=0.0023124590516090393, {hms_string(epoch_elapsed)}\n",
            "1/1 [==============================] - 0s 15ms/step\n",
            "Epoch 32, gen loss=8.91098690032959,disc loss=0.0021906509064137936, {hms_string(epoch_elapsed)}\n",
            "1/1 [==============================] - 0s 15ms/step\n",
            "Epoch 33, gen loss=9.361403465270996,disc loss=0.0013817747822031379, {hms_string(epoch_elapsed)}\n",
            "1/1 [==============================] - 0s 16ms/step\n",
            "Epoch 34, gen loss=9.248702049255371,disc loss=0.0018958494765684009, {hms_string(epoch_elapsed)}\n",
            "1/1 [==============================] - 0s 18ms/step\n",
            "Epoch 35, gen loss=9.138996124267578,disc loss=0.0017163660377264023, {hms_string(epoch_elapsed)}\n",
            "1/1 [==============================] - 0s 18ms/step\n",
            "Epoch 36, gen loss=9.289552688598633,disc loss=0.001295282389037311, {hms_string(epoch_elapsed)}\n",
            "1/1 [==============================] - 0s 16ms/step\n",
            "Epoch 37, gen loss=9.16849136352539,disc loss=0.001476204372011125, {hms_string(epoch_elapsed)}\n",
            "1/1 [==============================] - 0s 15ms/step\n",
            "Epoch 38, gen loss=9.356121063232422,disc loss=0.001564434845931828, {hms_string(epoch_elapsed)}\n",
            "1/1 [==============================] - 0s 15ms/step\n",
            "Epoch 39, gen loss=9.845165252685547,disc loss=0.001539279124699533, {hms_string(epoch_elapsed)}\n",
            "1/1 [==============================] - 0s 19ms/step\n",
            "Epoch 40, gen loss=10.022835731506348,disc loss=0.0009568517562001944, {hms_string(epoch_elapsed)}\n",
            "1/1 [==============================] - 0s 15ms/step\n",
            "Epoch 41, gen loss=10.03560733795166,disc loss=0.0008135566604323685, {hms_string(epoch_elapsed)}\n",
            "1/1 [==============================] - 0s 15ms/step\n",
            "Epoch 42, gen loss=9.937529563903809,disc loss=0.0010543563403189182, {hms_string(epoch_elapsed)}\n",
            "1/1 [==============================] - 0s 15ms/step\n",
            "Epoch 43, gen loss=9.989407539367676,disc loss=0.0009685608674772084, {hms_string(epoch_elapsed)}\n",
            "1/1 [==============================] - 0s 15ms/step\n",
            "Epoch 44, gen loss=9.67422103881836,disc loss=0.0013666305458173156, {hms_string(epoch_elapsed)}\n",
            "1/1 [==============================] - 0s 15ms/step\n",
            "Epoch 45, gen loss=10.65392780303955,disc loss=0.0005840007797814906, {hms_string(epoch_elapsed)}\n",
            "1/1 [==============================] - 0s 15ms/step\n",
            "Epoch 46, gen loss=10.0293607711792,disc loss=0.0007986090495251119, {hms_string(epoch_elapsed)}\n",
            "1/1 [==============================] - 0s 15ms/step\n",
            "Epoch 47, gen loss=10.190730094909668,disc loss=0.0006990506662987173, {hms_string(epoch_elapsed)}\n",
            "1/1 [==============================] - 0s 15ms/step\n",
            "Epoch 48, gen loss=9.946268081665039,disc loss=0.0007077946793287992, {hms_string(epoch_elapsed)}\n",
            "1/1 [==============================] - 0s 15ms/step\n",
            "Epoch 49, gen loss=10.101922035217285,disc loss=0.0005083012511022389, {hms_string(epoch_elapsed)}\n",
            "1/1 [==============================] - 0s 14ms/step\n",
            "Epoch 50, gen loss=10.26329517364502,disc loss=0.0006305972929112613, {hms_string(epoch_elapsed)}\n",
            "1/1 [==============================] - 0s 16ms/step\n",
            "Epoch 51, gen loss=10.390745162963867,disc loss=0.0004831042606383562, {hms_string(epoch_elapsed)}\n",
            "1/1 [==============================] - 0s 15ms/step\n",
            "Epoch 52, gen loss=10.469401359558105,disc loss=0.0006359303370118141, {hms_string(epoch_elapsed)}\n",
            "1/1 [==============================] - 0s 15ms/step\n",
            "Epoch 53, gen loss=10.867938041687012,disc loss=0.00045708086690865457, {hms_string(epoch_elapsed)}\n",
            "1/1 [==============================] - 0s 15ms/step\n",
            "Epoch 54, gen loss=10.429116249084473,disc loss=0.000524153292644769, {hms_string(epoch_elapsed)}\n",
            "1/1 [==============================] - 0s 15ms/step\n",
            "Epoch 55, gen loss=10.471463203430176,disc loss=0.00042555094114504755, {hms_string(epoch_elapsed)}\n",
            "1/1 [==============================] - 0s 15ms/step\n",
            "Epoch 56, gen loss=10.68112564086914,disc loss=0.0004918862250633538, {hms_string(epoch_elapsed)}\n",
            "1/1 [==============================] - 0s 17ms/step\n",
            "Epoch 57, gen loss=10.531558990478516,disc loss=0.0003981139452662319, {hms_string(epoch_elapsed)}\n",
            "1/1 [==============================] - 0s 15ms/step\n",
            "Epoch 58, gen loss=10.33669376373291,disc loss=0.0006058072904124856, {hms_string(epoch_elapsed)}\n",
            "1/1 [==============================] - 0s 16ms/step\n",
            "Epoch 59, gen loss=10.575469017028809,disc loss=0.0006836554384790361, {hms_string(epoch_elapsed)}\n",
            "1/1 [==============================] - 0s 15ms/step\n",
            "Epoch 60, gen loss=11.131775856018066,disc loss=0.0006493860273621976, {hms_string(epoch_elapsed)}\n",
            "1/1 [==============================] - 0s 15ms/step\n",
            "Epoch 61, gen loss=11.085583686828613,disc loss=0.0005069684120826423, {hms_string(epoch_elapsed)}\n",
            "1/1 [==============================] - 0s 15ms/step\n",
            "Epoch 62, gen loss=11.078727722167969,disc loss=0.00046047649811953306, {hms_string(epoch_elapsed)}\n",
            "1/1 [==============================] - 0s 15ms/step\n",
            "Epoch 63, gen loss=11.284984588623047,disc loss=0.0003667634155135602, {hms_string(epoch_elapsed)}\n",
            "1/1 [==============================] - 0s 16ms/step\n",
            "Epoch 64, gen loss=11.10403060913086,disc loss=0.0005832269671373069, {hms_string(epoch_elapsed)}\n",
            "1/1 [==============================] - 0s 18ms/step\n",
            "Epoch 65, gen loss=11.351211547851562,disc loss=0.0003949307429138571, {hms_string(epoch_elapsed)}\n",
            "1/1 [==============================] - 0s 15ms/step\n",
            "Epoch 66, gen loss=11.736882209777832,disc loss=0.00025799896684475243, {hms_string(epoch_elapsed)}\n",
            "1/1 [==============================] - 0s 19ms/step\n",
            "Epoch 67, gen loss=11.680683135986328,disc loss=0.00026409197016619146, {hms_string(epoch_elapsed)}\n",
            "1/1 [==============================] - 0s 19ms/step\n",
            "Epoch 68, gen loss=11.865966796875,disc loss=0.00018863151490222663, {hms_string(epoch_elapsed)}\n",
            "1/1 [==============================] - 0s 16ms/step\n",
            "Epoch 69, gen loss=11.983516693115234,disc loss=0.0005222632316872478, {hms_string(epoch_elapsed)}\n",
            "1/1 [==============================] - 0s 15ms/step\n",
            "Epoch 70, gen loss=13.208636283874512,disc loss=0.00016572391905356199, {hms_string(epoch_elapsed)}\n",
            "1/1 [==============================] - 0s 15ms/step\n",
            "Epoch 71, gen loss=12.662047386169434,disc loss=0.00015589412942063063, {hms_string(epoch_elapsed)}\n",
            "1/1 [==============================] - 0s 15ms/step\n",
            "Epoch 72, gen loss=12.161492347717285,disc loss=0.0003024103061761707, {hms_string(epoch_elapsed)}\n",
            "1/1 [==============================] - 0s 15ms/step\n",
            "Epoch 73, gen loss=12.105965614318848,disc loss=0.0001581329997861758, {hms_string(epoch_elapsed)}\n",
            "1/1 [==============================] - 0s 15ms/step\n",
            "Epoch 74, gen loss=12.381680488586426,disc loss=0.00011948711471632123, {hms_string(epoch_elapsed)}\n",
            "1/1 [==============================] - 0s 15ms/step\n",
            "Epoch 75, gen loss=12.134578704833984,disc loss=0.00017593172378838062, {hms_string(epoch_elapsed)}\n",
            "1/1 [==============================] - 0s 15ms/step\n",
            "Epoch 76, gen loss=12.774210929870605,disc loss=0.00019492565479595214, {hms_string(epoch_elapsed)}\n",
            "1/1 [==============================] - 0s 15ms/step\n",
            "Epoch 77, gen loss=12.44608211517334,disc loss=0.0001909384736791253, {hms_string(epoch_elapsed)}\n",
            "1/1 [==============================] - 0s 15ms/step\n",
            "Epoch 78, gen loss=12.519574165344238,disc loss=0.00013088791456539184, {hms_string(epoch_elapsed)}\n",
            "1/1 [==============================] - 0s 15ms/step\n",
            "Epoch 79, gen loss=12.580153465270996,disc loss=0.00017465394921600819, {hms_string(epoch_elapsed)}\n",
            "1/1 [==============================] - 0s 16ms/step\n",
            "Epoch 80, gen loss=13.266230583190918,disc loss=9.178579784929752e-05, {hms_string(epoch_elapsed)}\n",
            "1/1 [==============================] - 0s 16ms/step\n",
            "Epoch 81, gen loss=13.233918190002441,disc loss=0.00016478174075018615, {hms_string(epoch_elapsed)}\n",
            "1/1 [==============================] - 0s 16ms/step\n",
            "Epoch 82, gen loss=13.071807861328125,disc loss=9.244191460311413e-05, {hms_string(epoch_elapsed)}\n",
            "1/1 [==============================] - 0s 16ms/step\n",
            "Epoch 83, gen loss=13.191075325012207,disc loss=0.00012592018174473196, {hms_string(epoch_elapsed)}\n",
            "1/1 [==============================] - 0s 15ms/step\n",
            "Epoch 84, gen loss=13.282469749450684,disc loss=9.876774129224941e-05, {hms_string(epoch_elapsed)}\n",
            "1/1 [==============================] - 0s 16ms/step\n",
            "Epoch 85, gen loss=13.253119468688965,disc loss=8.06695970823057e-05, {hms_string(epoch_elapsed)}\n",
            "1/1 [==============================] - 0s 15ms/step\n",
            "Epoch 86, gen loss=13.220526695251465,disc loss=4.3881471356144175e-05, {hms_string(epoch_elapsed)}\n",
            "1/1 [==============================] - 0s 18ms/step\n",
            "Epoch 87, gen loss=13.19171142578125,disc loss=6.80772282066755e-05, {hms_string(epoch_elapsed)}\n",
            "1/1 [==============================] - 0s 15ms/step\n",
            "Epoch 88, gen loss=13.2344388961792,disc loss=8.136405813274905e-05, {hms_string(epoch_elapsed)}\n",
            "1/1 [==============================] - 0s 16ms/step\n",
            "Epoch 89, gen loss=13.273734092712402,disc loss=7.922961958684027e-05, {hms_string(epoch_elapsed)}\n",
            "1/1 [==============================] - 0s 16ms/step\n",
            "Epoch 90, gen loss=13.228692054748535,disc loss=7.522491068812087e-05, {hms_string(epoch_elapsed)}\n",
            "1/1 [==============================] - 0s 18ms/step\n",
            "Epoch 91, gen loss=13.408259391784668,disc loss=0.00011148407793371007, {hms_string(epoch_elapsed)}\n",
            "1/1 [==============================] - 0s 16ms/step\n",
            "Epoch 92, gen loss=13.493534088134766,disc loss=6.700700032524765e-05, {hms_string(epoch_elapsed)}\n",
            "1/1 [==============================] - 0s 15ms/step\n",
            "Epoch 93, gen loss=13.381848335266113,disc loss=8.02522772573866e-05, {hms_string(epoch_elapsed)}\n",
            "1/1 [==============================] - 0s 16ms/step\n",
            "Epoch 94, gen loss=13.164165496826172,disc loss=6.159199256217107e-05, {hms_string(epoch_elapsed)}\n",
            "1/1 [==============================] - 0s 16ms/step\n",
            "Epoch 95, gen loss=13.226876258850098,disc loss=7.639216346433386e-05, {hms_string(epoch_elapsed)}\n",
            "1/1 [==============================] - 0s 16ms/step\n",
            "Epoch 96, gen loss=13.351853370666504,disc loss=5.181851520319469e-05, {hms_string(epoch_elapsed)}\n",
            "1/1 [==============================] - 0s 15ms/step\n",
            "Epoch 97, gen loss=13.148467063903809,disc loss=6.0931124608032405e-05, {hms_string(epoch_elapsed)}\n",
            "1/1 [==============================] - 0s 16ms/step\n",
            "Epoch 98, gen loss=13.165251731872559,disc loss=6.13542870269157e-05, {hms_string(epoch_elapsed)}\n",
            "1/1 [==============================] - 0s 19ms/step\n",
            "Epoch 99, gen loss=13.360644340515137,disc loss=5.969355333945714e-05, {hms_string(epoch_elapsed)}\n",
            "1/1 [==============================] - 0s 18ms/step\n",
            "Epoch 100, gen loss=13.283782958984375,disc loss=4.994908522348851e-05, {hms_string(epoch_elapsed)}\n",
            "1/1 [==============================] - 0s 15ms/step\n",
            "Epoch 101, gen loss=13.262185096740723,disc loss=0.00021230547281447798, {hms_string(epoch_elapsed)}\n",
            "1/1 [==============================] - 0s 18ms/step\n",
            "Epoch 102, gen loss=12.631928443908691,disc loss=6.80198791087605e-05, {hms_string(epoch_elapsed)}\n",
            "1/1 [==============================] - 0s 23ms/step\n",
            "Epoch 103, gen loss=12.560539245605469,disc loss=6.844977178843692e-05, {hms_string(epoch_elapsed)}\n",
            "1/1 [==============================] - 0s 16ms/step\n",
            "Epoch 104, gen loss=12.630581855773926,disc loss=5.7681008911458775e-05, {hms_string(epoch_elapsed)}\n",
            "1/1 [==============================] - 0s 16ms/step\n",
            "Epoch 105, gen loss=12.863548278808594,disc loss=8.613152749603614e-05, {hms_string(epoch_elapsed)}\n",
            "1/1 [==============================] - 0s 15ms/step\n",
            "Epoch 106, gen loss=13.116867065429688,disc loss=0.00010035270679509267, {hms_string(epoch_elapsed)}\n",
            "1/1 [==============================] - 0s 18ms/step\n",
            "Epoch 107, gen loss=13.094143867492676,disc loss=6.585990195162594e-05, {hms_string(epoch_elapsed)}\n",
            "1/1 [==============================] - 0s 15ms/step\n",
            "Epoch 108, gen loss=13.144886016845703,disc loss=6.516682333312929e-05, {hms_string(epoch_elapsed)}\n",
            "1/1 [==============================] - 0s 26ms/step\n",
            "Epoch 109, gen loss=13.46160888671875,disc loss=6.405985914170742e-05, {hms_string(epoch_elapsed)}\n",
            "1/1 [==============================] - 0s 15ms/step\n",
            "Epoch 110, gen loss=13.705093383789062,disc loss=0.00010445991210872307, {hms_string(epoch_elapsed)}\n",
            "1/1 [==============================] - 0s 15ms/step\n",
            "Epoch 111, gen loss=13.906558990478516,disc loss=8.678244921611622e-05, {hms_string(epoch_elapsed)}\n",
            "1/1 [==============================] - 0s 15ms/step\n",
            "Epoch 112, gen loss=13.639270782470703,disc loss=3.5172750358469784e-05, {hms_string(epoch_elapsed)}\n",
            "1/1 [==============================] - 0s 15ms/step\n",
            "Epoch 113, gen loss=13.613426208496094,disc loss=3.9833055780036375e-05, {hms_string(epoch_elapsed)}\n",
            "1/1 [==============================] - 0s 17ms/step\n",
            "Epoch 114, gen loss=13.577738761901855,disc loss=5.755391248385422e-05, {hms_string(epoch_elapsed)}\n",
            "1/1 [==============================] - 0s 27ms/step\n",
            "Epoch 115, gen loss=13.833073616027832,disc loss=3.908700819010846e-05, {hms_string(epoch_elapsed)}\n",
            "1/1 [==============================] - 0s 31ms/step\n",
            "Epoch 116, gen loss=13.789502143859863,disc loss=3.475942139630206e-05, {hms_string(epoch_elapsed)}\n",
            "1/1 [==============================] - 0s 15ms/step\n",
            "Epoch 117, gen loss=13.73001480102539,disc loss=3.6728280974784866e-05, {hms_string(epoch_elapsed)}\n",
            "1/1 [==============================] - 0s 15ms/step\n",
            "Epoch 118, gen loss=13.583178520202637,disc loss=3.222141458536498e-05, {hms_string(epoch_elapsed)}\n",
            "1/1 [==============================] - 0s 15ms/step\n",
            "Epoch 119, gen loss=13.626434326171875,disc loss=3.497604120639153e-05, {hms_string(epoch_elapsed)}\n",
            "1/1 [==============================] - 0s 15ms/step\n",
            "Epoch 120, gen loss=13.782500267028809,disc loss=4.271819125278853e-05, {hms_string(epoch_elapsed)}\n",
            "1/1 [==============================] - 0s 16ms/step\n",
            "Epoch 121, gen loss=13.799735069274902,disc loss=4.244898445904255e-05, {hms_string(epoch_elapsed)}\n",
            "1/1 [==============================] - 0s 18ms/step\n",
            "Epoch 122, gen loss=13.754817008972168,disc loss=4.768493818119168e-05, {hms_string(epoch_elapsed)}\n",
            "1/1 [==============================] - 0s 15ms/step\n",
            "Epoch 123, gen loss=13.861007690429688,disc loss=3.294201451353729e-05, {hms_string(epoch_elapsed)}\n",
            "1/1 [==============================] - 0s 16ms/step\n",
            "Epoch 124, gen loss=13.658463478088379,disc loss=3.8380323530873284e-05, {hms_string(epoch_elapsed)}\n",
            "1/1 [==============================] - 0s 15ms/step\n",
            "Epoch 125, gen loss=13.811354637145996,disc loss=3.382153590791859e-05, {hms_string(epoch_elapsed)}\n",
            "1/1 [==============================] - 0s 15ms/step\n",
            "Epoch 126, gen loss=13.753868103027344,disc loss=3.810325506492518e-05, {hms_string(epoch_elapsed)}\n",
            "1/1 [==============================] - 0s 15ms/step\n",
            "Epoch 127, gen loss=13.808040618896484,disc loss=5.110120036988519e-05, {hms_string(epoch_elapsed)}\n",
            "1/1 [==============================] - 0s 15ms/step\n",
            "Epoch 128, gen loss=13.852492332458496,disc loss=2.9227399863884784e-05, {hms_string(epoch_elapsed)}\n",
            "1/1 [==============================] - 0s 15ms/step\n",
            "Epoch 129, gen loss=13.735847473144531,disc loss=5.130729914526455e-05, {hms_string(epoch_elapsed)}\n",
            "1/1 [==============================] - 0s 22ms/step\n",
            "Epoch 130, gen loss=13.527359008789062,disc loss=3.732429468072951e-05, {hms_string(epoch_elapsed)}\n",
            "1/1 [==============================] - 0s 15ms/step\n",
            "Epoch 131, gen loss=13.886361122131348,disc loss=4.228651596349664e-05, {hms_string(epoch_elapsed)}\n",
            "1/1 [==============================] - 0s 16ms/step\n",
            "Epoch 132, gen loss=13.8095121383667,disc loss=0.0005109934718348086, {hms_string(epoch_elapsed)}\n",
            "1/1 [==============================] - 0s 16ms/step\n",
            "Epoch 133, gen loss=12.565369606018066,disc loss=7.678126712562516e-05, {hms_string(epoch_elapsed)}\n",
            "1/1 [==============================] - 0s 15ms/step\n",
            "Epoch 134, gen loss=13.153979301452637,disc loss=5.669699748978019e-05, {hms_string(epoch_elapsed)}\n",
            "1/1 [==============================] - 0s 15ms/step\n",
            "Epoch 135, gen loss=13.562667846679688,disc loss=5.996215622872114e-05, {hms_string(epoch_elapsed)}\n",
            "1/1 [==============================] - 0s 15ms/step\n",
            "Epoch 136, gen loss=14.12813663482666,disc loss=3.9283295336645097e-05, {hms_string(epoch_elapsed)}\n",
            "1/1 [==============================] - 0s 15ms/step\n",
            "Epoch 137, gen loss=14.438777923583984,disc loss=1.4444035514316056e-05, {hms_string(epoch_elapsed)}\n",
            "1/1 [==============================] - 0s 20ms/step\n",
            "Epoch 138, gen loss=14.316569328308105,disc loss=2.4632574422867037e-05, {hms_string(epoch_elapsed)}\n",
            "1/1 [==============================] - 0s 18ms/step\n",
            "Epoch 139, gen loss=14.436079978942871,disc loss=1.608540151210036e-05, {hms_string(epoch_elapsed)}\n",
            "1/1 [==============================] - 0s 16ms/step\n",
            "Epoch 140, gen loss=14.305047035217285,disc loss=1.7313721400569193e-05, {hms_string(epoch_elapsed)}\n",
            "1/1 [==============================] - 0s 16ms/step\n",
            "Epoch 141, gen loss=14.421036720275879,disc loss=2.45668925344944e-05, {hms_string(epoch_elapsed)}\n",
            "1/1 [==============================] - 0s 16ms/step\n",
            "Epoch 142, gen loss=14.507964134216309,disc loss=1.6275342204608023e-05, {hms_string(epoch_elapsed)}\n",
            "1/1 [==============================] - 0s 15ms/step\n",
            "Epoch 143, gen loss=14.446578025817871,disc loss=1.6448268070234917e-05, {hms_string(epoch_elapsed)}\n",
            "1/1 [==============================] - 0s 15ms/step\n",
            "Epoch 144, gen loss=14.728897094726562,disc loss=2.3565291485283524e-05, {hms_string(epoch_elapsed)}\n",
            "1/1 [==============================] - 0s 16ms/step\n",
            "Epoch 145, gen loss=14.642704010009766,disc loss=2.0120336557738483e-05, {hms_string(epoch_elapsed)}\n",
            "1/1 [==============================] - 0s 18ms/step\n",
            "Epoch 146, gen loss=14.58311939239502,disc loss=1.662876456975937e-05, {hms_string(epoch_elapsed)}\n",
            "1/1 [==============================] - 0s 16ms/step\n",
            "Epoch 147, gen loss=14.576430320739746,disc loss=1.3870070688426495e-05, {hms_string(epoch_elapsed)}\n",
            "1/1 [==============================] - 0s 15ms/step\n",
            "Epoch 148, gen loss=14.593478202819824,disc loss=1.2345000868663192e-05, {hms_string(epoch_elapsed)}\n",
            "1/1 [==============================] - 0s 16ms/step\n",
            "Epoch 149, gen loss=14.64135456085205,disc loss=1.707513911242131e-05, {hms_string(epoch_elapsed)}\n",
            "1/1 [==============================] - 0s 16ms/step\n",
            "Epoch 150, gen loss=14.5543851852417,disc loss=1.8983662812388502e-05, {hms_string(epoch_elapsed)}\n",
            "1/1 [==============================] - 0s 16ms/step\n",
            "Epoch 151, gen loss=14.672477722167969,disc loss=1.356260781903984e-05, {hms_string(epoch_elapsed)}\n",
            "1/1 [==============================] - 0s 16ms/step\n",
            "Epoch 152, gen loss=14.605252265930176,disc loss=4.4952230382477865e-05, {hms_string(epoch_elapsed)}\n",
            "1/1 [==============================] - 0s 15ms/step\n",
            "Epoch 153, gen loss=14.449454307556152,disc loss=1.4553486835211515e-05, {hms_string(epoch_elapsed)}\n",
            "1/1 [==============================] - 0s 15ms/step\n",
            "Epoch 154, gen loss=14.479167938232422,disc loss=1.7679201846476644e-05, {hms_string(epoch_elapsed)}\n",
            "1/1 [==============================] - 0s 15ms/step\n",
            "Epoch 155, gen loss=14.460299491882324,disc loss=1.2705918379651848e-05, {hms_string(epoch_elapsed)}\n",
            "1/1 [==============================] - 0s 15ms/step\n",
            "Epoch 156, gen loss=14.425609588623047,disc loss=1.7843512978288345e-05, {hms_string(epoch_elapsed)}\n",
            "1/1 [==============================] - 0s 15ms/step\n",
            "Epoch 157, gen loss=14.373661994934082,disc loss=1.6345962649211287e-05, {hms_string(epoch_elapsed)}\n",
            "1/1 [==============================] - 0s 15ms/step\n",
            "Epoch 158, gen loss=14.560046195983887,disc loss=1.1764921509893611e-05, {hms_string(epoch_elapsed)}\n",
            "1/1 [==============================] - 0s 16ms/step\n",
            "Epoch 159, gen loss=14.571431159973145,disc loss=1.328973303316161e-05, {hms_string(epoch_elapsed)}\n",
            "1/1 [==============================] - 0s 15ms/step\n",
            "Epoch 160, gen loss=14.564437866210938,disc loss=2.0588015104294755e-05, {hms_string(epoch_elapsed)}\n",
            "1/1 [==============================] - 0s 16ms/step\n",
            "Epoch 161, gen loss=14.372542381286621,disc loss=1.2613002581929322e-05, {hms_string(epoch_elapsed)}\n",
            "1/1 [==============================] - 0s 15ms/step\n",
            "Epoch 162, gen loss=14.256214141845703,disc loss=1.6743344531278126e-05, {hms_string(epoch_elapsed)}\n",
            "1/1 [==============================] - 0s 15ms/step\n",
            "Epoch 163, gen loss=14.541293144226074,disc loss=2.158195093215909e-05, {hms_string(epoch_elapsed)}\n",
            "1/1 [==============================] - 0s 15ms/step\n",
            "Epoch 164, gen loss=14.641437530517578,disc loss=2.8197910069138743e-05, {hms_string(epoch_elapsed)}\n",
            "1/1 [==============================] - 0s 15ms/step\n",
            "Epoch 165, gen loss=14.41745662689209,disc loss=2.066661363642197e-05, {hms_string(epoch_elapsed)}\n",
            "1/1 [==============================] - 0s 16ms/step\n",
            "Epoch 166, gen loss=14.333110809326172,disc loss=4.454257941688411e-05, {hms_string(epoch_elapsed)}\n",
            "1/1 [==============================] - 0s 16ms/step\n",
            "Epoch 167, gen loss=14.235737800598145,disc loss=1.35234977278742e-05, {hms_string(epoch_elapsed)}\n",
            "1/1 [==============================] - 0s 15ms/step\n",
            "Epoch 168, gen loss=14.057937622070312,disc loss=1.4947228009987157e-05, {hms_string(epoch_elapsed)}\n",
            "1/1 [==============================] - 0s 16ms/step\n",
            "Epoch 169, gen loss=14.095909118652344,disc loss=1.86993111128686e-05, {hms_string(epoch_elapsed)}\n",
            "1/1 [==============================] - 0s 16ms/step\n",
            "Epoch 170, gen loss=14.24950122833252,disc loss=1.5458863344974816e-05, {hms_string(epoch_elapsed)}\n",
            "1/1 [==============================] - 0s 16ms/step\n",
            "Epoch 171, gen loss=14.215615272521973,disc loss=1.3218462299846578e-05, {hms_string(epoch_elapsed)}\n",
            "1/1 [==============================] - 0s 15ms/step\n",
            "Epoch 172, gen loss=14.327961921691895,disc loss=7.444882794516161e-05, {hms_string(epoch_elapsed)}\n",
            "1/1 [==============================] - 0s 15ms/step\n",
            "Epoch 173, gen loss=14.130949974060059,disc loss=2.40678564296104e-05, {hms_string(epoch_elapsed)}\n",
            "1/1 [==============================] - 0s 16ms/step\n",
            "Epoch 174, gen loss=14.109082221984863,disc loss=3.316887523396872e-05, {hms_string(epoch_elapsed)}\n",
            "1/1 [==============================] - 0s 15ms/step\n",
            "Epoch 175, gen loss=14.320918083190918,disc loss=1.768649417499546e-05, {hms_string(epoch_elapsed)}\n",
            "1/1 [==============================] - 0s 15ms/step\n",
            "Epoch 176, gen loss=14.297205924987793,disc loss=1.584327947057318e-05, {hms_string(epoch_elapsed)}\n",
            "1/1 [==============================] - 0s 15ms/step\n",
            "Epoch 177, gen loss=14.378411293029785,disc loss=1.3084113561490085e-05, {hms_string(epoch_elapsed)}\n",
            "1/1 [==============================] - 0s 16ms/step\n",
            "Epoch 178, gen loss=14.37720012664795,disc loss=1.4262398508435581e-05, {hms_string(epoch_elapsed)}\n",
            "1/1 [==============================] - 0s 16ms/step\n",
            "Epoch 179, gen loss=14.402030944824219,disc loss=1.458098540751962e-05, {hms_string(epoch_elapsed)}\n",
            "1/1 [==============================] - 0s 16ms/step\n",
            "Epoch 180, gen loss=14.369556427001953,disc loss=1.9432483895798214e-05, {hms_string(epoch_elapsed)}\n",
            "1/1 [==============================] - 0s 15ms/step\n",
            "Epoch 181, gen loss=14.461817741394043,disc loss=1.1677500879159197e-05, {hms_string(epoch_elapsed)}\n",
            "1/1 [==============================] - 0s 15ms/step\n",
            "Epoch 182, gen loss=14.347100257873535,disc loss=1.5387227904284373e-05, {hms_string(epoch_elapsed)}\n",
            "1/1 [==============================] - 0s 15ms/step\n",
            "Epoch 183, gen loss=14.570769309997559,disc loss=1.2279528164071962e-05, {hms_string(epoch_elapsed)}\n",
            "1/1 [==============================] - 0s 17ms/step\n",
            "Epoch 184, gen loss=14.688206672668457,disc loss=1.313019311055541e-05, {hms_string(epoch_elapsed)}\n",
            "1/1 [==============================] - 0s 15ms/step\n",
            "Epoch 185, gen loss=14.696118354797363,disc loss=1.2833509572374169e-05, {hms_string(epoch_elapsed)}\n",
            "1/1 [==============================] - 0s 15ms/step\n",
            "Epoch 186, gen loss=14.665770530700684,disc loss=1.728076495055575e-05, {hms_string(epoch_elapsed)}\n",
            "1/1 [==============================] - 0s 15ms/step\n",
            "Epoch 187, gen loss=14.704116821289062,disc loss=1.5167400306381751e-05, {hms_string(epoch_elapsed)}\n",
            "1/1 [==============================] - 0s 20ms/step\n",
            "Epoch 188, gen loss=14.65024185180664,disc loss=1.1184233699168544e-05, {hms_string(epoch_elapsed)}\n",
            "1/1 [==============================] - 0s 15ms/step\n",
            "Epoch 189, gen loss=14.721264839172363,disc loss=1.075131876859814e-05, {hms_string(epoch_elapsed)}\n",
            "1/1 [==============================] - 0s 15ms/step\n",
            "Epoch 190, gen loss=14.507774353027344,disc loss=1.820997567847371e-05, {hms_string(epoch_elapsed)}\n",
            "1/1 [==============================] - 0s 16ms/step\n",
            "Epoch 191, gen loss=14.724698066711426,disc loss=1.3932094589108601e-05, {hms_string(epoch_elapsed)}\n",
            "1/1 [==============================] - 0s 16ms/step\n",
            "Epoch 192, gen loss=14.814582824707031,disc loss=1.3107706763548777e-05, {hms_string(epoch_elapsed)}\n",
            "1/1 [==============================] - 0s 18ms/step\n",
            "Epoch 193, gen loss=14.693950653076172,disc loss=1.8622247807797976e-05, {hms_string(epoch_elapsed)}\n",
            "1/1 [==============================] - 0s 14ms/step\n",
            "Epoch 194, gen loss=14.549912452697754,disc loss=1.1628625543380622e-05, {hms_string(epoch_elapsed)}\n",
            "1/1 [==============================] - 0s 17ms/step\n",
            "Epoch 195, gen loss=14.624774932861328,disc loss=1.040273218677612e-05, {hms_string(epoch_elapsed)}\n",
            "1/1 [==============================] - 0s 15ms/step\n",
            "Epoch 196, gen loss=14.632404327392578,disc loss=1.0993967407557648e-05, {hms_string(epoch_elapsed)}\n",
            "1/1 [==============================] - 0s 16ms/step\n",
            "Epoch 197, gen loss=14.797621726989746,disc loss=7.396889031952014e-06, {hms_string(epoch_elapsed)}\n",
            "1/1 [==============================] - 0s 15ms/step\n",
            "Epoch 198, gen loss=14.845023155212402,disc loss=1.283799338125391e-05, {hms_string(epoch_elapsed)}\n",
            "1/1 [==============================] - 0s 19ms/step\n",
            "Epoch 199, gen loss=14.647929191589355,disc loss=1.4543031284119934e-05, {hms_string(epoch_elapsed)}\n",
            "1/1 [==============================] - 0s 18ms/step\n",
            "Epoch 200, gen loss=14.80380630493164,disc loss=1.0224636753264349e-05, {hms_string(epoch_elapsed)}\n",
            "1/1 [==============================] - 0s 16ms/step\n"
          ]
        }
      ]
    },
    {
      "cell_type": "code",
      "source": [
        "!cp /content/training_set/cats/training_data_96_96.npy /content/drive/MyDrive/training_data_96_96.npy"
      ],
      "metadata": {
        "id": "w_8WzSRMFCRL"
      },
      "execution_count": null,
      "outputs": []
    },
    {
      "cell_type": "code",
      "source": [
        "!version"
      ],
      "metadata": {
        "colab": {
          "base_uri": "https://localhost:8080/"
        },
        "id": "RoOsuh63GZAO",
        "outputId": "a17af5ea-34ce-443d-a51a-5ddc107fa820"
      },
      "execution_count": null,
      "outputs": [
        {
          "output_type": "stream",
          "name": "stdout",
          "text": [
            "/bin/bash: version: command not found\n"
          ]
        }
      ]
    },
    {
      "cell_type": "code",
      "source": [
        "!uname -a"
      ],
      "metadata": {
        "colab": {
          "base_uri": "https://localhost:8080/"
        },
        "id": "FpUFwIRdGalB",
        "outputId": "9f4929f7-750f-4994-dd28-678f8a702dfb"
      },
      "execution_count": null,
      "outputs": [
        {
          "output_type": "stream",
          "name": "stdout",
          "text": [
            "Linux 4540bf79e487 5.10.133+ #1 SMP Fri Aug 26 08:44:51 UTC 2022 x86_64 x86_64 x86_64 GNU/Linux\n"
          ]
        }
      ]
    },
    {
      "cell_type": "code",
      "source": [],
      "metadata": {
        "id": "qjA5c5lbGi-F"
      },
      "execution_count": null,
      "outputs": []
    },
    {
      "cell_type": "code",
      "source": [],
      "metadata": {
        "id": "reNE-zgBOTJe"
      },
      "execution_count": null,
      "outputs": []
    }
  ]
}