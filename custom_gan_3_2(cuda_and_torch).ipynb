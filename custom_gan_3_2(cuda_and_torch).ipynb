{
  "nbformat": 4,
  "nbformat_minor": 0,
  "metadata": {
    "colab": {
      "provenance": [],
      "collapsed_sections": [],
      "include_colab_link": true
    },
    "kernelspec": {
      "name": "python3",
      "display_name": "Python 3"
    },
    "language_info": {
      "name": "python"
    },
    "accelerator": "GPU"
  },
  "cells": [
    {
      "cell_type": "markdown",
      "metadata": {
        "id": "view-in-github",
        "colab_type": "text"
      },
      "source": [
        "<a href=\"https://colab.research.google.com/github/junhuk1113/AIAD_weather/blob/master/custom_gan_3_2(cuda_and_torch).ipynb\" target=\"_parent\"><img src=\"https://colab.research.google.com/assets/colab-badge.svg\" alt=\"Open In Colab\"/></a>"
      ]
    },
    {
      "cell_type": "code",
      "execution_count": 1,
      "metadata": {
        "id": "QPcLl7CSVcIN"
      },
      "outputs": [],
      "source": [
        "#import library\n",
        "\n",
        "import numpy as np\n",
        "import pandas as pd\n",
        "from tqdm import tqdm\n",
        "from PIL import Image as Img\n",
        "import matplotlib.pyplot as plt\n",
        "import random\n",
        "\n",
        "from IPython.display import Image\n",
        "\n",
        "from skimage import io, transform\n",
        "import imageio\n",
        "import datetime\n",
        "import os\n",
        "import cv2\n",
        "\n",
        "#import keras\n",
        "\n",
        "import keras \n",
        "from keras import Input\n",
        "from keras.preprocessing.image import ImageDataGenerator\n",
        "from keras.applications.vgg16 import VGG16\n",
        "from keras.applications.vgg16 import preprocess_input\n",
        "from keras import Model, layers\n",
        "from keras.callbacks import *\n",
        "from keras.models import load_model, model_from_json\n",
        "from keras.layers import Dense, Reshape, LeakyReLU, Conv2D, Conv2DTranspose, Flatten, Dropout\n",
        "from keras.models import Model\n",
        "from tensorflow.keras.optimizers import RMSprop\n",
        "\n",
        "%matplotlib inline\n"
      ]
    },
    {
      "cell_type": "code",
      "source": [
        "#torch and cuda import\n",
        "\n",
        "import torch\n",
        "import torchvision\n",
        "import torch.nn as nn\n",
        "import torch.optim as optim\n",
        "import torch.nn.functional as F\n",
        "from torch.utils.tensorboard import SummaryWriter\n",
        "from torchvision.utils import make_grid\n",
        "from torchvision.utils import save_image\n",
        "import torchvision.transforms as T\n",
        "\n",
        "from torch.utils.data import Dataset\n",
        "from torch.utils.data import DataLoader\n",
        "\n",
        "\n",
        "call_cuda = torch.cuda.is_available()\n",
        "device = torch.device(\"cuda\" if call_cuda else \"cpu\")"
      ],
      "metadata": {
        "id": "8CxOfQtOVwnv"
      },
      "execution_count": 2,
      "outputs": []
    },
    {
      "cell_type": "code",
      "source": [
        "#test on torch bring GPU\n",
        "import tensorflow as tf\n",
        "tf.test.gpu_device_name()"
      ],
      "metadata": {
        "colab": {
          "base_uri": "https://localhost:8080/",
          "height": 35
        },
        "id": "KFn-6bQNV8aM",
        "outputId": "2df42041-3879-45ab-fd1c-b9a2f9b3936b"
      },
      "execution_count": 3,
      "outputs": [
        {
          "output_type": "execute_result",
          "data": {
            "text/plain": [
              "'/device:GPU:0'"
            ],
            "application/vnd.google.colaboratory.intrinsic+json": {
              "type": "string"
            }
          },
          "metadata": {},
          "execution_count": 3
        }
      ]
    },
    {
      "cell_type": "code",
      "source": [
        "from google.colab import drive\n",
        "drive.mount('/content/drive')"
      ],
      "metadata": {
        "colab": {
          "base_uri": "https://localhost:8080/"
        },
        "id": "7fXPtjqU-an8",
        "outputId": "7d10f1c0-c45b-47e5-a543-c2192ed5f79f"
      },
      "execution_count": 4,
      "outputs": [
        {
          "output_type": "stream",
          "name": "stdout",
          "text": [
            "Mounted at /content/drive\n"
          ]
        }
      ]
    },
    {
      "cell_type": "code",
      "source": [
        "image_size = 64\n",
        "DATA_DIR = '/content/drive/MyDrive/PBL_Shared_Data/202101cldcr200re64new.npy'\n",
        "X_train = np.load(DATA_DIR)\n",
        "print(f\"Shape of training data: {X_train.shape}\")\n",
        "print(f\"Data type: {type(X_train)}\")\n",
        "\n",
        "print(type(X_train[0][0][0][0]))\n",
        "\n",
        "data = X_train.astype(np.float64)\n",
        "data = 255 * data\n",
        "img = data.astype(np.uint8)\n",
        "X_train = img\n",
        "\n",
        "random_image = random.randint(0, len(X_train))\n",
        "plt.imshow(X_train[random_image,0],cmap='gray',vmin=0,vmax=255)\n",
        "plt.title(f\"Training example #{random_image}\")\n",
        "plt.axis('off')\n",
        "plt.show()"
      ],
      "metadata": {
        "colab": {
          "base_uri": "https://localhost:8080/",
          "height": 318
        },
        "id": "B0sEs4OqkDZx",
        "outputId": "7d322a68-90e5-4682-e89f-c696b054ad7a"
      },
      "execution_count": 5,
      "outputs": [
        {
          "output_type": "stream",
          "name": "stdout",
          "text": [
            "Shape of training data: (31, 24, 64, 64)\n",
            "Data type: <class 'numpy.ndarray'>\n",
            "<class 'numpy.uint8'>\n"
          ]
        },
        {
          "output_type": "display_data",
          "data": {
            "text/plain": [
              "<Figure size 432x288 with 1 Axes>"
            ],
            "image/png": "[encoded data removed]"
          },
          "metadata": {
            "needs_background": "light"
          }
        }
      ]
    },
    {
      "cell_type": "code",
      "source": [
        "USE_CUDA = torch.cuda.is_available()\n",
        "DEVICE = torch.device(\"cuda\" if USE_CUDA else \"cpu\")\n",
        "print(\"사용하는 Device : \", DEVICE)\n",
        "\n",
        "current_time = datetime.datetime.now() + datetime.timedelta(hours= 9)\n",
        "current_time = current_time.strftime('%Y-%m-%d-%H:%M')\n",
        "\n",
        "saved_loc = os.path.join('/content/drive/MyDrive/GAN_Result', current_time)\n",
        "if os.path.exists(saved_loc):\n",
        "    shutil.rmtree(saved_loc)\n",
        "os.mkdir(saved_loc)\n",
        "\n",
        "print(\"저장 위치: \", saved_loc)\n",
        "\n",
        "image_loc = os.path.join(saved_loc, \"images\")\n",
        "os.mkdir(image_loc)\n",
        "\n",
        "writer = SummaryWriter(saved_loc)\n",
        "\n",
        "EPOCHS = 32\n",
        "BATCH_SIZE = 200"
      ],
      "metadata": {
        "colab": {
          "base_uri": "https://localhost:8080/"
        },
        "id": "9tLHd-wiXuPm",
        "outputId": "5e072373-be7b-4461-f285-058504fcc5eb"
      },
      "execution_count": 6,
      "outputs": [
        {
          "output_type": "stream",
          "name": "stdout",
          "text": [
            "사용하는 Device :  cuda\n",
            "저장 위치:  /content/drive/MyDrive/GAN_Result/2022-10-11-20:53\n"
          ]
        }
      ]
    },
    {
      "cell_type": "code",
      "source": [
        "data = X_train.astype(np.float64)\n",
        "data = 255 * data\n",
        "X_train = data.astype(np.uint8)"
      ],
      "metadata": {
        "id": "J6U4DavAki_P"
      },
      "execution_count": 7,
      "outputs": []
    },
    {
      "cell_type": "code",
      "source": [
        "print(type(X_train[0][0][0][0]))"
      ],
      "metadata": {
        "colab": {
          "base_uri": "https://localhost:8080/"
        },
        "id": "Iat4AOSVjPEq",
        "outputId": "217d2d99-8797-478c-ea37-44c54173d837"
      },
      "execution_count": 8,
      "outputs": [
        {
          "output_type": "stream",
          "name": "stdout",
          "text": [
            "<class 'numpy.uint8'>\n"
          ]
        }
      ]
    },
    {
      "cell_type": "code",
      "source": [
        "#Class Define CloudDataset1\n",
        "class CloudDataset1(Dataset):\n",
        "  def __init__(self, X, y):\n",
        "        'Initialization'\n",
        "        self.X = X\n",
        "        self.y = y\n",
        "  def __len__(self):\n",
        "        'Denotes the total number of samples'\n",
        "        return len(self.X)\n",
        "  def __getitem__(self, index):\n",
        "        'Generates one sample of data'\n",
        "        # Select sample\n",
        "        image = self.X[index]\n",
        "        X = self.transform(image)\n",
        "        return X\n",
        "        transform = T.Compose([\n",
        "        T.ToPILImage(),\n",
        "        T.Resize(image_size),\n",
        "        T.ToTensor()])\n",
        "# Transformer code\n",
        "transform = T.Compose([\n",
        "        T.ToPILImage(),\n",
        "        T.Resize(image_size),\n",
        "        T.ToTensor()])"
      ],
      "metadata": {
        "id": "mrC35PRJ_Nmi"
      },
      "execution_count": 9,
      "outputs": []
    },
    {
      "cell_type": "code",
      "source": [
        "def show_images(images, nmax=64):\n",
        "    fig, ax = plt.subplots(figsize=(8, 8))\n",
        "    ax.set_xticks([]); ax.set_yticks([])\n",
        "    ax.imshow(make_grid((images.detach()[:nmax]), nrow=8).permute(1, 2, 0))\n",
        "def show_batch(dl, nmax=64):\n",
        "    for images in dl:\n",
        "        show_images(images, nmax)\n",
        "        break"
      ],
      "metadata": {
        "id": "DMbG5Seq0R8T"
      },
      "execution_count": 10,
      "outputs": []
    },
    {
      "cell_type": "code",
      "source": [
        "#Class Define CloudDataset2\n",
        "class CloudDataset2(Dataset):\n",
        "    'Characterizes a dataset for PyTorch'\n",
        "    def __init__(self, ims):\n",
        "        'Initialization'\n",
        "        self.ims = ims\n",
        "    def __len__(self):\n",
        "        'Denotes the total number of samples'\n",
        "        return len(self.ims)\n",
        "    def __getitem__(self, index):\n",
        "        'Generates one sample of data'\n",
        "        # Select sample\n",
        "        image = self.ims[index]\n",
        "        X = self.transform(image)\n",
        "        return X\n",
        "        \n",
        "transform = T.Compose([\n",
        "      T.ToPILImage(),\n",
        "      T.CenterCrop(0.75 * 64),\n",
        "      T.Resize(image_size),\n",
        "      T.RandomResizedCrop(image_size),\n",
        "      T.RandomHorizontalFlip(),\n",
        "      T.ToTensor()])\n",
        "    \n",
        "batch_size = 64\n",
        "cropped_dataset = CloudDataset2(ims=X_train)\n",
        "train_dl = DataLoader(cropped_dataset, batch_size, shuffle=True, num_workers=3, pin_memory=True)\n",
        "#show_batch(train_dl)"
      ],
      "metadata": {
        "id": "ryn0cYf3uFXe"
      },
      "execution_count": 21,
      "outputs": []
    },
    {
      "cell_type": "code",
      "source": [
        "sample, label = next(iter(trainloader))\n",
        "\n",
        "# show grid image\n",
        "def imshow_grid(img):\n",
        "    img = torchvision.utils.make_grid(img.cpu().detach())\n",
        "    img = (img + 1) / 2\n",
        "    npimg = img.numpy()\n",
        "    plt.imshow(np.transpose(npimg, (1, 2, 0)))\n",
        "    ax = plt.gca()\n",
        "    ax.axes.xaxis.set_visible(False)\n",
        "    ax.axes.yaxis.set_visible(False)\n",
        "    plt.show()\n",
        "\n",
        "\n",
        "imshow_grid(sample[0:8])\n",
        "\n",
        "# Loading trainset, testset and trainloader, testloader"
      ],
      "metadata": {
        "colab": {
          "base_uri": "https://localhost:8080/",
          "height": 240
        },
        "id": "gq-heA2yFcaj",
        "outputId": "4da4574f-3587-4ea3-df41-c6ecd8160139"
      },
      "execution_count": 20,
      "outputs": [
        {
          "output_type": "error",
          "ename": "TypeError",
          "evalue": "ignored",
          "traceback": [
            "\u001b[0;31m---------------------------------------------------------------------------\u001b[0m",
            "\u001b[0;31mTypeError\u001b[0m                                 Traceback (most recent call last)",
            "\u001b[0;32m<ipython-input-20-b987374ba67d>\u001b[0m in \u001b[0;36m<module>\u001b[0;34m\u001b[0m\n\u001b[0;32m----> 1\u001b[0;31m \u001b[0msample\u001b[0m\u001b[0;34m,\u001b[0m \u001b[0mlabel\u001b[0m \u001b[0;34m=\u001b[0m \u001b[0mnext\u001b[0m\u001b[0;34m(\u001b[0m\u001b[0miter\u001b[0m\u001b[0;34m(\u001b[0m\u001b[0mCloudDataset2\u001b[0m\u001b[0;34m)\u001b[0m\u001b[0;34m)\u001b[0m\u001b[0;34m\u001b[0m\u001b[0;34m\u001b[0m\u001b[0m\n\u001b[0m\u001b[1;32m      2\u001b[0m \u001b[0;34m\u001b[0m\u001b[0m\n\u001b[1;32m      3\u001b[0m \u001b[0;31m# show grid image\u001b[0m\u001b[0;34m\u001b[0m\u001b[0;34m\u001b[0m\u001b[0;34m\u001b[0m\u001b[0m\n\u001b[1;32m      4\u001b[0m \u001b[0;32mdef\u001b[0m \u001b[0mimshow_grid\u001b[0m\u001b[0;34m(\u001b[0m\u001b[0mimg\u001b[0m\u001b[0;34m)\u001b[0m\u001b[0;34m:\u001b[0m\u001b[0;34m\u001b[0m\u001b[0;34m\u001b[0m\u001b[0m\n\u001b[1;32m      5\u001b[0m     \u001b[0mimg\u001b[0m \u001b[0;34m=\u001b[0m \u001b[0mtorchvision\u001b[0m\u001b[0;34m.\u001b[0m\u001b[0mutils\u001b[0m\u001b[0;34m.\u001b[0m\u001b[0mmake_grid\u001b[0m\u001b[0;34m(\u001b[0m\u001b[0mimg\u001b[0m\u001b[0;34m.\u001b[0m\u001b[0mcpu\u001b[0m\u001b[0;34m(\u001b[0m\u001b[0;34m)\u001b[0m\u001b[0;34m.\u001b[0m\u001b[0mdetach\u001b[0m\u001b[0;34m(\u001b[0m\u001b[0;34m)\u001b[0m\u001b[0;34m)\u001b[0m\u001b[0;34m\u001b[0m\u001b[0;34m\u001b[0m\u001b[0m\n",
            "\u001b[0;31mTypeError\u001b[0m: 'type' object is not iterable"
          ]
        }
      ]
    },
    {
      "cell_type": "code",
      "source": [
        "# Discriminator class\n",
        "class Dis_model(nn.Module):\n",
        "    def __init__(self, image_size, hidden_space):\n",
        "        super(Dis_model, self).__init__()\n",
        "        self.features = nn.Sequential(\n",
        "            nn.Linear(image_size, hidden_space),\n",
        "            nn.ReLU(),\n",
        "            nn.Linear(hidden_space, hidden_space),\n",
        "            nn.ReLU(),\n",
        "            nn.Linear(hidden_space, 1),\n",
        "            nn.Sigmoid())\n",
        "    \n",
        "    def forward(self, input_x):\n",
        "        x = self.features(input_x)\n",
        "        return x"
      ],
      "metadata": {
        "id": "KSlXrbKe06nX"
      },
      "execution_count": null,
      "outputs": []
    },
    {
      "cell_type": "code",
      "source": [
        "# Generator class\n",
        "class Gen_model(nn.Module):\n",
        "    def __init__(self, latent_space, hidden_space, image_size):\n",
        "        super(Gen_model, self).__init__()\n",
        "        self.features = nn.Sequential(\n",
        "            nn.Linear(latent_space, hidden_space),\n",
        "            nn.ReLU(),\n",
        "            nn.Linear(hidden_space, hidden_space),\n",
        "            nn.ReLU(),\n",
        "            nn.Linear(hidden_space, image_size),\n",
        "            nn.Tanh())\n",
        "        \n",
        "    def forward(self, input_x):\n",
        "        x = self.features(input_x)\n",
        "        return x"
      ],
      "metadata": {
        "id": "I9RmGzRH0Nbo"
      },
      "execution_count": null,
      "outputs": []
    },
    {
      "cell_type": "code",
      "source": [
        "im_size = 784\n",
        "hidden_size = 256\n",
        "latent_size = 100\n",
        "\n",
        "Dis_net = Dis_model(image_size = im_size, hidden_space = hidden_size).to(DEVICE)\n",
        "Gen_net = Gen_model(image_size = im_size, hidden_space = hidden_size, latent_space = latent_size).to(DEVICE)\n",
        "\n",
        "d_optimizer = optim.Adam(Dis_net.parameters(), lr = 0.0002)\n",
        "g_optimizer = optim.Adam(Gen_net.parameters(), lr = 0.0002)\n",
        "\n",
        "fixed_noise = torch.randn(10, latent_size, 1, 1, device = DEVICE)"
      ],
      "metadata": {
        "id": "J-7ROVzJ0woo"
      },
      "execution_count": null,
      "outputs": []
    },
    {
      "cell_type": "code",
      "source": [
        "#train model,train version\n",
        "\n",
        "def train(generator, discriminator, train_loader, optimizer_d, optimizer_g):\n",
        "    generator.train()\n",
        "    discriminator.train()\n",
        "\n",
        "    D_losses = []\n",
        "    G_losses = []\n",
        "\n",
        "    for data, target in train_loader:\n",
        "        data, target = data.to(DEVICE), target.to(DEVICE)\n",
        "\n",
        "        #optimize discriminator\n",
        "\n",
        "        # initialize discriminator optimizer\n",
        "        optimizer_d.zero_grad()\n",
        "\n",
        "        # Make noise samples for discriminator update\n",
        "        noise_samples_d = torch.randn(BATCH_SIZE, latent_size).to(DEVICE)\n",
        "\n",
        "        # real loss\n",
        "        discri_value = discriminator(data.view(-1, 28*28))\n",
        "        loss_real = -1 * torch.log(discri_value) # gradient ascent\n",
        "\n",
        "        # fake loss\n",
        "        gene_value = discriminator(generator(noise_samples_d))\n",
        "        loss_fake = -1 * torch.log(1.0 - gene_value) # gradient ascent\n",
        "\n",
        "        # Final loss\n",
        "        loss_d = (loss_real + loss_fake).mean()\n",
        "\n",
        "        loss_d.backward()\n",
        "        optimizer_d.step()\n",
        "\n",
        "\n",
        "        #optimize generator\n",
        "\n",
        "        # initialize generator optimizer\n",
        "        optimizer_g.zero_grad()\n",
        "\n",
        "        # Make noise samples for generator update\n",
        "        noise_samples_g = torch.randn(BATCH_SIZE, latent_size).to(DEVICE)\n",
        "\n",
        "        # calculate loss\n",
        "        fake_value = discriminator(generator(noise_samples_g))\n",
        "        loss_generator = -1 * torch.log(fake_value).mean() # provide much stronger gradients early in learning.\n",
        "        \n",
        "        loss_generator.backward()\n",
        "        optimizer_g.step()\n",
        "\n",
        "    D_loss_epoch = torch.mean(torch.FloatTensor(D_losses))\n",
        "    G_loss_epoch = torch.mean(torch.FloatTensor(G_losses))\n",
        "    writer.add_scalars(\"Train\", {\"Average Discriminator loss per epoch\" : D_loss_epoch.item(),\n",
        "                                 \"Average Generator loss per epoch\" : G_loss_epoch.item()}, epoch)"
      ],
      "metadata": {
        "id": "KcDKyLnd1Ugg"
      },
      "execution_count": null,
      "outputs": []
    },
    {
      "cell_type": "code",
      "source": [
        "for epoch in tqdm(range(EPOCHS)):\n",
        "    train(Gen_net, Dis_net, trainloader, d_optimizer, g_optimizer)\n",
        "\n",
        "    fixed_noise_generation = Gen_net(fixed_noise.view(-1, latent_size))\n",
        "    torchvision.utils.save_image(fixed_noise_generation.detach(),\n",
        "                                 '%s/fixed_noise_generation_epoch_%03d.png' % (image_loc, epoch), normalize = True)\n",
        "\n",
        "    if (epoch+1)%20 == 0:\n",
        "        print('epoch %i / %i' % (epoch+1, EPOCHS))\n",
        "        \n",
        "        noise_sam = torch.randn(16, latent_size).to(DEVICE)\n",
        "        imshow_grid(Gen_net(noise_sam).view(-1, 1, 28, 28))\n",
        "        print(\"\\n\")\n",
        "\n",
        "writer.close()\n"
      ],
      "metadata": {
        "id": "GOwRFwpB4wst"
      },
      "execution_count": null,
      "outputs": []
    },
    {
      "cell_type": "code",
      "source": [
        "\"\"\"\n",
        "\n",
        "class CustomDataset(Dataset): \n",
        "  def __init__(self):\n",
        "    self.x_data = [[73, 80, 75],\n",
        "                   [93, 88, 93],\n",
        "                   [89, 91, 90],\n",
        "                   [96, 98, 100],\n",
        "                   [73, 66, 70]]\n",
        "    self.y_data = [[152], [185], [180], [196], [142]]\n",
        "\n",
        "  # 총 데이터의 개수를 리턴\n",
        "  def __len__(self): \n",
        "    return len(self.x_data)\n",
        "\n",
        "  # 인덱스를 입력받아 그에 맵핑되는 입출력 데이터를 파이토치의 Tensor 형태로 리턴\n",
        "  def __getitem__(self, idx): \n",
        "    x = torch.FloatTensor(self.x_data[idx])\n",
        "    y = torch.FloatTensor(self.y_data[idx])\n",
        "    return x, y\n",
        "dataset = CustomDataset()\n",
        "dataloader = DataLoader(dataset, batch_size=2, shuffle=True)\n",
        "model = torch.nn.Linear(3,1)\n",
        "optimizer = torch.optim.SGD(model.parameters(), lr=1e-5) \n",
        "nb_epochs = 20\n",
        "for epoch in range(nb_epochs + 1):\n",
        "  for batch_idx, samples in enumerate(dataloader):\n",
        "    # print(batch_idx)\n",
        "    # print(samples)\n",
        "    x_train, y_train = samples\n",
        "    # H(x) 계산\n",
        "    prediction = model(x_train)\n",
        "\n",
        "    # cost 계산\n",
        "    cost = F.mse_loss(prediction, y_train)\n",
        "\n",
        "    # cost로 H(x) 계산\n",
        "    optimizer.zero_grad()\n",
        "    cost.backward()\n",
        "    optimizer.step()\n",
        "\n",
        "    print('Epoch {:4d}/{} Batch {}/{} Cost: {:.6f}'.format(\n",
        "        epoch, nb_epochs, batch_idx+1, len(dataloader),\n",
        "        cost.item()\n",
        "        ))\n",
        "Epoch\n",
        "\"\"\""
      ],
      "metadata": {
        "id": "U7WsRKf_mG_U"
      },
      "execution_count": null,
      "outputs": []
    },
    {
      "cell_type": "code",
      "source": [
        "\"\"\"\n",
        "image_size = 64\n",
        "DATA_DIR = '/content/drive/MyDrive/PBL_Shared_Data/202101cldcr200re64new.npy'\n",
        "X_train = np.load(DATA_DIR)\n",
        "print(f\"Shape of training data: {X_train.shape}\")\n",
        "print(f\"Data type: {type(X_train)}\")\n",
        "\n",
        "print(type(X_train[0][0][0][0]))\n",
        "\n",
        "#data = X_train.astype(np.float64)\n",
        "# = 255 * data\n",
        "#X_train = data.astype(np.uint8)\n",
        "random_image = random.randint(0, len(X_train))\n",
        "plt.imshow(X_train[random_image,0],cmap='gray',vmin=0,vmax=255)\n",
        "plt.title(f\"Training example #{random_image}\")\n",
        "plt.axis('off')\n",
        "plt.show()\n",
        "\"\"\""
      ],
      "metadata": {
        "id": "xHr8DFefmL7X"
      },
      "execution_count": null,
      "outputs": []
    },
    {
      "cell_type": "code",
      "source": [
        "\"\"\"\n",
        "transformer = transforms.Compose([\n",
        "            transforms.ToTensor(),\n",
        "            transforms.Normalize((0.5,), (0.5,))\n",
        "])\n",
        "\"\"\"\n",
        "\n",
        "\"\"\"\n",
        "class SimpleCustomBatch:\n",
        "    def __init__(self, data):\n",
        "        transposed_data = list(zip(*data))\n",
        "        self.inp = torch.stack(transposed_data[0], 0)\n",
        "        self.tgt = torch.stack(transposed_data[1], 0)\n",
        "\n",
        "    # custom memory pinning method on custom type\n",
        "    def pin_memory(self):\n",
        "        self.inp = self.inp.pin_memory()\n",
        "        self.tgt = self.tgt.pin_memory()\n",
        "        return self\n",
        "\n",
        "def collate_wrapper(batch):\n",
        "    return SimpleCustomBatch(batch)\n",
        "\n",
        "inps = torch.arange(10 * 5, dtype=torch.float32).view(10, 5)\n",
        "tgts = torch.arange(10 * 5, dtype=torch.float32).view(10, 5)\n",
        "dataset = TensorDataset(inps, tgts)\n",
        "\n",
        "loader = DataLoader(dataset, batch_size=2, collate_fn=collate_wrapper,\n",
        "                    pin_memory=True)\n",
        "\n",
        "for batch_ndx, sample in enumerate(loader):\n",
        "    print(sample.inp.is_pinned())\n",
        "    print(sample.tgt.is_pinned())\n",
        "    \"\"\"\n",
        "    "
      ],
      "metadata": {
        "id": "2xHws-G91w0n"
      },
      "execution_count": null,
      "outputs": []
    },
    {
      "cell_type": "code",
      "source": [
        "\"\"\"\n",
        "class SimpleCustomBatch:\n",
        "    def __init__(self, data):\n",
        "        transposed_data = list(zip(*data))\n",
        "        self.inp = torch.stack(transposed_data[0], 0)\n",
        "        self.tgt = torch.stack(transposed_data[1], 0)\n",
        "\n",
        "    # custom memory pinning method on custom type\n",
        "    def pin_memory(self):\n",
        "        self.inp = self.inp.pin_memory()\n",
        "        self.tgt = self.tgt.pin_memory()\n",
        "        return self\n",
        "\n",
        "def collate_wrapper(batch):\n",
        "    return SimpleCustomBatch(batch)\n",
        "\n",
        "input = torch.arange(10 * 5, dtype=torch.float32).view(10, 5)\n",
        "target = torch.arange(10 * 5, dtype=torch.float32).view(10, 5)\n",
        "dataset = CustomDataset(inps, tgts)\n",
        "#dataset = CustomDataset(inps, tgts)\n",
        "\n",
        "loader = DataLoader(dataset, batch_size=2, collate_fn=collate_wrapper,\n",
        "                    pin_memory=True)\n",
        "\n",
        "for batch_ndx, sample in enumerate(loader):\n",
        "    print(sample.inp.is_pinned())\n",
        "    print(sample.tgt.is_pinned())\n",
        "\"\"\""
      ],
      "metadata": {
        "id": "h6xqx4hK11ro"
      },
      "execution_count": null,
      "outputs": []
    },
    {
      "cell_type": "markdown",
      "source": [],
      "metadata": {
        "id": "AaN8yK52VqQ6"
      }
    }
  ]
}