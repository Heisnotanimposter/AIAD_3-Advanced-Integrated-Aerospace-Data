{
  "nbformat": 4,
  "nbformat_minor": 0,
  "metadata": {
    "colab": {
      "provenance": [],
      "collapsed_sections": []
    },
    "kernelspec": {
      "name": "python3",
      "display_name": "Python 3"
    },
    "language_info": {
      "name": "python"
    },
    "accelerator": "GPU"
  },
  "cells": [
    {
      "cell_type": "code",
      "execution_count": 4,
      "metadata": {
        "id": "9m-BakZv85Lh"
      },
      "outputs": [],
      "source": [
        "import numpy as np\n",
        "import pandas as pd\n",
        "import matplotlib.pyplot as plt\n",
        "import imageio\n",
        "import cv2\n",
        "\n",
        "import keras\n",
        "from keras.preprocessing.image import ImageDataGenerator\n",
        "from keras.applications.vgg16 import VGG16\n",
        "from keras.applications.vgg16 import preprocess_input\n",
        "from keras import Model, layers\n",
        "from keras.callbacks import *\n",
        "from keras.models import load_model, model_from_json"
      ]
    },
    {
      "cell_type": "code",
      "source": [
        "from tqdm import tqdm\n",
        "from PIL import Image as Img\n",
        "from keras import Input\n",
        "from keras.layers import Dense, Reshape, LeakyReLU, Conv2D, Conv2DTranspose, Flatten, Dropout\n",
        "from keras.models import Model\n",
        "from tensorflow.keras.optimizers import RMSprop\n"
      ],
      "metadata": {
        "id": "QUIuT0hD8-Ls"
      },
      "execution_count": 5,
      "outputs": []
    },
    {
      "cell_type": "code",
      "source": [
        "from google.colab import drive\n",
        "drive.mount('/content/drive')"
      ],
      "metadata": {
        "colab": {
          "base_uri": "https://localhost:8080/"
        },
        "id": "EvWUAB19H7QC",
        "outputId": "96168142-f73a-41b2-889d-506a9d2bf89d"
      },
      "execution_count": 19,
      "outputs": [
        {
          "output_type": "stream",
          "name": "stdout",
          "text": [
            "Mounted at /content/drive\n"
          ]
        }
      ]
    },
    {
      "cell_type": "code",
      "source": [
        "!nvidia-smi"
      ],
      "metadata": {
        "colab": {
          "base_uri": "https://localhost:8080/"
        },
        "id": "P9qO-8t_GD8Q",
        "outputId": "b24cf3cb-eecc-438f-be97-d0d206af2ffd"
      },
      "execution_count": 8,
      "outputs": [
        {
          "output_type": "stream",
          "name": "stdout",
          "text": [
            "Wed Oct  5 12:22:06 2022       \n",
            "+-----------------------------------------------------------------------------+\n",
            "| NVIDIA-SMI 460.32.03    Driver Version: 460.32.03    CUDA Version: 11.2     |\n",
            "|-------------------------------+----------------------+----------------------+\n",
            "| GPU  Name        Persistence-M| Bus-Id        Disp.A | Volatile Uncorr. ECC |\n",
            "| Fan  Temp  Perf  Pwr:Usage/Cap|         Memory-Usage | GPU-Util  Compute M. |\n",
            "|                               |                      |               MIG M. |\n",
            "|===============================+======================+======================|\n",
            "|   0  Tesla T4            Off  | 00000000:00:04.0 Off |                    0 |\n",
            "| N/A   49C    P0    27W /  70W |    788MiB / 15109MiB |      0%      Default |\n",
            "|                               |                      |                  N/A |\n",
            "+-------------------------------+----------------------+----------------------+\n",
            "                                                                               \n",
            "+-----------------------------------------------------------------------------+\n",
            "| Processes:                                                                  |\n",
            "|  GPU   GI   CI        PID   Type   Process name                  GPU Memory |\n",
            "|        ID   ID                                                   Usage      |\n",
            "|=============================================================================|\n",
            "+-----------------------------------------------------------------------------+\n"
          ]
        }
      ]
    },
    {
      "cell_type": "code",
      "source": [
        "import torch\n",
        "\n",
        "\n",
        "call_cuda = torch.cuda.is_available()\n",
        "device = torch.device(\"cuda\" if call_cuda else \"cpu\")\n"
      ],
      "metadata": {
        "id": "e8tZvmVDGEMP"
      },
      "execution_count": 16,
      "outputs": []
    },
    {
      "cell_type": "code",
      "source": [
        "import tensorflow as tf\n",
        "tf.test.gpu_device_name()\n"
      ],
      "metadata": {
        "colab": {
          "base_uri": "https://localhost:8080/",
          "height": 35
        },
        "outputId": "1785a04e-9e1a-4769-f806-0357a1c9dddb",
        "id": "ny50gcxvGEMP"
      },
      "execution_count": 6,
      "outputs": [
        {
          "output_type": "execute_result",
          "data": {
            "text/plain": [
              "'/device:GPU:0'"
            ],
            "application/vnd.google.colaboratory.intrinsic+json": {
              "type": "string"
            }
          },
          "metadata": {},
          "execution_count": 6
        }
      ]
    },
    {
      "cell_type": "code",
      "source": [
        "\"\"\"\n",
        "pic_dir = ''\n",
        "\n",
        "images_count = 900\n",
        "\n",
        "im_width = ''\n",
        "im_height = ''\n",
        "diff = (im_width - im_height) // 2\n",
        "\n",
        "width = 900\n",
        "height = 900\n",
        "\n",
        "crop_rect = (0, diff, im_width, im_height - diff)\n",
        "\n",
        "\n",
        "images = []\n",
        "for pic_file in tqdm(os.listdir(pic_dir)[:IMAGES_COUNT]):\n",
        "  pic = Image.open(pic_dir + pic_file).crop(crop_rect)\n",
        "  pic.thumbnail((width, height), Image.ANTIALIAS)\n",
        "  images.append(np.uint8(pic))\n",
        "\"\"\""
      ],
      "metadata": {
        "colab": {
          "base_uri": "https://localhost:8080/",
          "height": 125
        },
        "id": "-2fmxvzI9dEg",
        "outputId": "38b5ac30-7a0d-4a3d-cc80-a8a7be449aa3"
      },
      "execution_count": 12,
      "outputs": [
        {
          "output_type": "execute_result",
          "data": {
            "text/plain": [
              "\"\\npic_dir = ''\\n\\nimages_count = 900\\n\\nim_width = ''\\nim_height = ''\\ndiff = (im_width - im_height) // 2\\n\\nwidth = 900\\nheight = 900\\n\\ncrop_rect = (0, diff, im_width, im_height - diff)\\n\\n\\nimages = []\\nfor pic_file in tqdm(os.listdir(pic_dir)[:IMAGES_COUNT]):\\n  pic = Image.open(pic_dir + pic_file).crop(crop_rect)\\n  pic.thumbnail((width, height), Image.ANTIALIAS)\\n  images.append(np.uint8(pic))\\n\""
            ],
            "application/vnd.google.colaboratory.intrinsic+json": {
              "type": "string"
            }
          },
          "metadata": {},
          "execution_count": 12
        }
      ]
    },
    {
      "cell_type": "code",
      "source": [
        "\"\"\"\n",
        "tensorboard==2.10.0\n",
        "tensorboard-data-server==0.6.1\n",
        "tensorboard-plugin-wit==1.8.1\n",
        "tensorflow==2.10.0\n",
        "tensorflow-estimator==2.10.0\n",
        "tensorflow-io-gcs-filesystem==0.26.0\n",
        "\n",
        "\"\"\""
      ],
      "metadata": {
        "id": "kdM1VOxwDUPS",
        "outputId": "ccb97067-e533-42bd-f25b-0438625c9768",
        "colab": {
          "base_uri": "https://localhost:8080/",
          "height": 71
        }
      },
      "execution_count": null,
      "outputs": [
        {
          "output_type": "execute_result",
          "data": {
            "text/plain": [
              "'\\ntensorboard==2.10.0\\ntensorboard-data-server==0.6.1\\ntensorboard-plugin-wit==1.8.1\\ntensorflow==2.10.0\\ntensorflow-estimator==2.10.0\\ntensorflow-io-gcs-filesystem==0.26.0\\n\\n'"
            ],
            "application/vnd.google.colaboratory.intrinsic+json": {
              "type": "string"
            }
          },
          "metadata": {},
          "execution_count": 8
        }
      ]
    },
    {
      "cell_type": "code",
      "source": [
        "import torch\n",
        "import torchvision\n",
        "import torchvision.transforms as transforms\n",
        "import torch.nn as nn\n",
        "import torch.optim as optim\n",
        "from tqdm.auto import tqdm\n",
        "import numpy as np\n",
        "import matplotlib.pyplot as plt\n"
      ],
      "metadata": {
        "id": "DL9mawCDF6V_"
      },
      "execution_count": 9,
      "outputs": []
    },
    {
      "cell_type": "code",
      "source": [
        "print(\"UsingDevice: \", device)\n",
        "\n",
        "EPOCHS = 400\n",
        "BATCH_SIZE = 200"
      ],
      "metadata": {
        "colab": {
          "base_uri": "https://localhost:8080/"
        },
        "id": "QYoUqkr8Gxka",
        "outputId": "645a5352-3809-44bb-9bac-82da2a60b440"
      },
      "execution_count": 17,
      "outputs": [
        {
          "output_type": "stream",
          "name": "stdout",
          "text": [
            "UsingDevice:  cuda\n"
          ]
        }
      ]
    },
    {
      "cell_type": "code",
      "source": [
        "#for colab users\n",
        "\n",
        "from six.moves import urllib    \n",
        "opener = urllib.request.build_opener()\n",
        "opener.addheaders = [('User-agent', 'Mozilla/5.0')]\n",
        "urllib.request.install_opener(opener)\n"
      ],
      "metadata": {
        "id": "elefB0I5HBHR"
      },
      "execution_count": 18,
      "outputs": []
    },
    {
      "cell_type": "code",
      "source": [
        "# Transformer code\n",
        "\n",
        "transformer = transforms.Compose([\n",
        "            transforms.ToTensor(),\n",
        "            transforms.Normalize((0.5,), (0.5,))\n",
        "])\n",
        "\n",
        "\n",
        "# Loading trainset, testset and trainloader, testloader\n",
        "fpath = \"/content/drive/MyDrive/PBL_Shared_Data/test_light_data/subset_010587_01.npy\"\n",
        "dataset = np.load(fpath)\n",
        "\n",
        "trainset = torchvision.datasets.dataset(root = '/content/drive/MyDrive/PBL_Shared_Data/test_light_data/subset_010587_01.npy', train = True,\n",
        "                                        download = True, transform = transformer)\n",
        "\n",
        "trainloader = torch.utils.data.DataLoader(trainset, batch_size = BATCH_SIZE, shuffle = True, num_workers = 2)\n",
        "\n",
        "testset = torchvision.datasets.dataset(root = '/content/drive/MyDrive/PBL_Shared_Data/test_light_data/subset_010587_01.npy', train = False,\n",
        "                                        download = True, transform = transformer)\n",
        "\n",
        "testloader = torch.utils.data.DataLoader(testset, batch_size = BATCH_SIZE, shuffle = True, num_workers = 2)\n",
        "\n",
        "\n"
      ],
      "metadata": {
        "colab": {
          "base_uri": "https://localhost:8080/",
          "height": 349
        },
        "id": "eTsLXwR0HrC2",
        "outputId": "1ea0ad1a-b7b2-43e3-84ff-cf8f662e60c2"
      },
      "execution_count": 21,
      "outputs": [
        {
          "output_type": "error",
          "ename": "AttributeError",
          "evalue": "ignored",
          "traceback": [
            "\u001b[0;31m---------------------------------------------------------------------------\u001b[0m",
            "\u001b[0;31mAttributeError\u001b[0m                            Traceback (most recent call last)",
            "\u001b[0;32m<ipython-input-21-7dfe9d392649>\u001b[0m in \u001b[0;36m<module>\u001b[0;34m\u001b[0m\n\u001b[1;32m     11\u001b[0m \u001b[0mdataset\u001b[0m \u001b[0;34m=\u001b[0m \u001b[0mnp\u001b[0m\u001b[0;34m.\u001b[0m\u001b[0mload\u001b[0m\u001b[0;34m(\u001b[0m\u001b[0mfpath\u001b[0m\u001b[0;34m)\u001b[0m\u001b[0;34m\u001b[0m\u001b[0;34m\u001b[0m\u001b[0m\n\u001b[1;32m     12\u001b[0m \u001b[0;34m\u001b[0m\u001b[0m\n\u001b[0;32m---> 13\u001b[0;31m trainset = torchvision.datasets.dataset(root = '/content/drive/MyDrive/PBL_Shared_Data/test_light_data/subset_010587_01.npy', train = True,\n\u001b[0m\u001b[1;32m     14\u001b[0m                                         download = True, transform = transformer)\n\u001b[1;32m     15\u001b[0m \u001b[0;34m\u001b[0m\u001b[0m\n",
            "\u001b[0;31mAttributeError\u001b[0m: module 'torchvision.datasets' has no attribute 'dataset'"
          ]
        }
      ]
    },
    {
      "cell_type": "code",
      "source": [],
      "metadata": {
        "id": "L28U_9GVHn8L"
      },
      "execution_count": null,
      "outputs": []
    }
  ]
}