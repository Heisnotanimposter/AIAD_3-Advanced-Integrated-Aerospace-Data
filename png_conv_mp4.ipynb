{
  "nbformat": 4,
  "nbformat_minor": 0,
  "metadata": {
    "colab": {
      "provenance": [],
      "machine_shape": "hm",
      "authorship_tag": "ABX9TyPxzYiGARGI3wD0PSX9y2bM",
      "include_colab_link": true
    },
    "kernelspec": {
      "name": "python3",
      "display_name": "Python 3"
    },
    "language_info": {
      "name": "python"
    }
  },
  "cells": [
    {
      "cell_type": "markdown",
      "metadata": {
        "id": "view-in-github",
        "colab_type": "text"
      },
      "source": [
        "<a href=\"https://colab.research.google.com/github/junhuk1113/AIAD_weather/blob/master/png_conv_mp4.ipynb\" target=\"_parent\"><img src=\"https://colab.research.google.com/assets/colab-badge.svg\" alt=\"Open In Colab\"/></a>"
      ]
    },
    {
      "cell_type": "code",
      "execution_count": null,
      "metadata": {
        "colab": {
          "base_uri": "https://localhost:8080/"
        },
        "id": "HzK5eak6t4I4",
        "outputId": "73188b92-78f1-4991-e85e-a0ef8d8e00f5"
      },
      "outputs": [
        {
          "output_type": "execute_result",
          "data": {
            "text/plain": [
              "256"
            ]
          },
          "metadata": {},
          "execution_count": 1
        }
      ],
      "source": [
        "import os\n",
        "from PIL import Image\n",
        "import cv2\n",
        "import matplotlib.pyplot as plt\n",
        "import numpy as np\n",
        "import imageio\n",
        "from PIL import Image\n",
        "import matplotlib.image as mpimg\n",
        "import re\n",
        "\n",
        "os.system(f'ffmpeg -r 30 -i ims/2/a/2a.*.png'\n",
        "              f' -crf 30 ims/2/a/2a.mp4')"
      ]
    },
    {
      "cell_type": "code",
      "source": [],
      "metadata": {
        "id": "ZEuB8k2GvUNH"
      },
      "execution_count": null,
      "outputs": []
    },
    {
      "cell_type": "code",
      "source": [
        "from google.colab import drive\n",
        "drive.mount('/content/drive')"
      ],
      "metadata": {
        "colab": {
          "base_uri": "https://localhost:8080/"
        },
        "id": "pzhqvSL1vJtx",
        "outputId": "17159415-af42-4639-a5dc-cd011ca326ec"
      },
      "execution_count": null,
      "outputs": [
        {
          "output_type": "stream",
          "name": "stdout",
          "text": [
            "Mounted at /content/drive\n"
          ]
        }
      ]
    },
    {
      "cell_type": "code",
      "source": [
        "path = \"/content/drive/MyDrive/PBL_Shared_Data/202101cldpng_unpacked\"\n",
        "paths = [os.path.join(path , i ) for i in os.listdir(path) if re.search(\".png$\", i )]\n",
        "##\n",
        "store1 = []\n",
        "store2 = []\n",
        "for i in paths :\n",
        "    if len(i) == 19 :\n",
        "        store2.append(i)\n",
        "    else :\n",
        "        store1.append(i)\n",
        "\n",
        "paths = list(np.sort(store1)) + list(np.sort(store2))\n",
        "len('/content/drive/MyDrive/PBL_Shared_Data/202101cldpng_unpacked')\n"
      ],
      "metadata": {
        "colab": {
          "base_uri": "https://localhost:8080/"
        },
        "id": "Q_nzsEwPuVRz",
        "outputId": "b63fbaa9-6cb8-49c1-bd3c-e82bd2e02e17"
      },
      "execution_count": null,
      "outputs": [
        {
          "output_type": "execute_result",
          "data": {
            "text/plain": [
              "60"
            ]
          },
          "metadata": {},
          "execution_count": 3
        }
      ]
    },
    {
      "cell_type": "code",
      "source": [
        "pathIn= '/content/drive/MyDrive/PBL_Shared_Data/202101cldpng_unpacked'\n",
        "pathOut = '/content/drive/MyDrive/PBL_Shared_Data/202101cldpng_unpacked/unpacked.mp4'\n",
        "fps = 30\n",
        "\n",
        "frame_array = []\n",
        "for idx , path in enumerate(paths) : \n",
        "    if (idx % 2 == 0) | (idx % 5 == 0) :\n",
        "        continue\n",
        "    img = cv2.imread(path)\n",
        "    height, width, layers = img.shape\n",
        "    size = (width,height)\n",
        "    frame_array.append(img)\n",
        "out = cv2.VideoWriter(pathOut,cv2.VideoWriter_fourcc(*'DIVX'), fps, size)\n",
        "for i in range(len(frame_array)):\n",
        "    # writing to a image array\n",
        "    out.write(frame_array[i])\n",
        "out.release()\n"
      ],
      "metadata": {
        "id": "6Unu3rtJvlS2"
      },
      "execution_count": null,
      "outputs": []
    },
    {
      "cell_type": "code",
      "source": [],
      "metadata": {
        "id": "YlSaxkr8zkIm"
      },
      "execution_count": null,
      "outputs": []
    }
  ]
}